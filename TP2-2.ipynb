{
  "nbformat": 4,
  "nbformat_minor": 0,
  "metadata": {
    "colab": {
      "provenance": []
    },
    "kernelspec": {
      "name": "python3",
      "display_name": "Python 3"
    },
    "language_info": {
      "name": "python"
    }
  },
  "cells": [
    {
      "cell_type": "code",
      "source": [
        "!pip install pyspark"
      ],
      "metadata": {
        "colab": {
          "base_uri": "https://localhost:8080/"
        },
        "id": "0mR6bRCaanGD",
        "outputId": "efcca787-11bc-4410-fa97-89781a85f11f"
      },
      "execution_count": 1,
      "outputs": [
        {
          "output_type": "stream",
          "name": "stdout",
          "text": [
            "Requirement already satisfied: pyspark in /usr/local/lib/python3.10/dist-packages (3.5.0)\n",
            "Requirement already satisfied: py4j==0.10.9.7 in /usr/local/lib/python3.10/dist-packages (from pyspark) (0.10.9.7)\n"
          ]
        }
      ]
    },
    {
      "cell_type": "markdown",
      "source": [
        "1.b.Create a simple program that create a list of 10 random elements, put it on a rdd and divide the even digits by two while putting odd digits to the square."
      ],
      "metadata": {
        "id": "zV9x84KvbB9R"
      }
    },
    {
      "cell_type": "code",
      "execution_count": 2,
      "metadata": {
        "colab": {
          "base_uri": "https://localhost:8080/"
        },
        "id": "Yst9s2gpaB9v",
        "outputId": "cfa89db5-2c5c-4be6-8172-e403dfcad482"
      },
      "outputs": [
        {
          "output_type": "stream",
          "name": "stdout",
          "text": [
            "Original List: [71, 22, 7, 55, 62, 6, 54, 11, 59, 75]\n",
            "Processed List: [5041, 11.0, 49, 3025, 31.0, 3.0, 27.0, 121, 3481, 5625]\n"
          ]
        }
      ],
      "source": [
        "from pyspark.sql import SparkSession\n",
        "from pyspark.sql.functions import col\n",
        "\n",
        "# Initialize SparkSession\n",
        "spark = SparkSession.builder.appName(\"Testing PySpark Example\").getOrCreate()\n",
        "\n",
        "# Create a list of 10 random elements\n",
        "import random\n",
        "random_list = [random.randint(1, 100) for _ in range(10)]\n",
        "\n",
        "# Parallelize the list into an RDD\n",
        "rdd = spark.sparkContext.parallelize(random_list)\n",
        "\n",
        "# Function to process elements based on condition\n",
        "def process_element(num):\n",
        "    if num % 2 == 0:  # Check if the number is even\n",
        "        return num / 2\n",
        "    else:\n",
        "        return num ** 2\n",
        "\n",
        "# Apply the function to each element of the RDD\n",
        "processed_rdd = rdd.map(process_element)\n",
        "\n",
        "# Collect the results and print them\n",
        "result = processed_rdd.collect()\n",
        "print(\"Original List:\", random_list)\n",
        "print(\"Processed List:\", result)"
      ]
    },
    {
      "cell_type": "markdown",
      "source": [
        "1.c.write a program to load the json file movies-2020s (do not forget the option(’multilines’, True)). Give the live of Horror movies of 2011\n"
      ],
      "metadata": {
        "id": "M-85N74EbOod"
      }
    },
    {
      "cell_type": "code",
      "source": [
        "from pyspark.sql import SparkSession\n",
        "from pyspark.sql.functions import col, length, array_contains\n",
        "\n",
        "# Initialize Spark session\n",
        "spark = SparkSession.builder.appName(\"Movies Analysis\").getOrCreate()\n",
        "\n",
        "# Load the JSON file\n",
        "movies_df = spark.read.option(\"multiline\", True).json(\"movies-2020s.json\")\n",
        "\n",
        "# Filter for Horror movies from 2021\n",
        "horror_movies_2011_df = movies_df.filter(\n",
        "    array_contains(col(\"genres\"), \"Horror\") & (col(\"year\") == 2021)\n",
        ")\n",
        "\n",
        "# Show the result for Horror movies of 2021\n",
        "print(\"Horror Movies of 2011:\")\n",
        "horror_movies_2011_df.show(truncate=False)"
      ],
      "metadata": {
        "colab": {
          "base_uri": "https://localhost:8080/"
        },
        "id": "tVPZB2V2spHu",
        "outputId": "05391429-1b66-4287-d795-97a1021da451"
      },
      "execution_count": 3,
      "outputs": [
        {
          "output_type": "stream",
          "name": "stdout",
          "text": [
            "Horror Movies of 2011:\n",
            "+-----------------------------------------------------------------------------------------------------------------------------------------------------------------------------------------------+-----------------------------------------------------------------------------------------------------------------------------------------------------------------------------------------------------------------------------------------------------------------------------------------------------------------------------------------------------------------------------------------------------------------------------------------------------------------------------------------------------------------------------------------------------------------------------------------------------------------------------------------------------------------------------------------------------------------------------------------------------------------------------------------------------------------------+-------------------------+--------------------------------------+----------------------------------------------------------------------------------------------------+----------------+---------------+--------------------------------------+----+\n",
            "|cast                                                                                                                                                                                           |extract                                                                                                                                                                                                                                                                                                                                                                                                                                                                                                                                                                                                                                                                                                                                                                                                                |genres                   |href                                  |thumbnail                                                                                           |thumbnail_height|thumbnail_width|title                                 |year|\n",
            "+-----------------------------------------------------------------------------------------------------------------------------------------------------------------------------------------------+-----------------------------------------------------------------------------------------------------------------------------------------------------------------------------------------------------------------------------------------------------------------------------------------------------------------------------------------------------------------------------------------------------------------------------------------------------------------------------------------------------------------------------------------------------------------------------------------------------------------------------------------------------------------------------------------------------------------------------------------------------------------------------------------------------------------------+-------------------------+--------------------------------------+----------------------------------------------------------------------------------------------------+----------------+---------------+--------------------------------------+----+\n",
            "|[Chloë Grace Moretz, Taylor John Smith, Beulah Koale, Callan Mulvey, Nick Robinson]                                                                                                            |Shadow in the Cloud is a 2020 action horror film directed by Roseanne Liang, from a screenplay by Liang and Max Landis, starring Chloë Grace Moretz, Beulah Koale, Taylor John Smith, Callan Mulvey and Nick Robinson. It follows a female flight officer on a top-secret mission in the Pacific during the Second World War, who after boarding a Boeing B-17 Flying Fortress, encounters an evil gremlin during the flight.                                                                                                                                                                                                                                                                                                                                                                                          |[Action, Horror]         |Shadow_in_the_Cloud                   |https://upload.wikimedia.org/wikipedia/en/0/0e/Shadow_in_the_Cloud.png                              |371             |250            |Shadow in the Cloud                   |2021|\n",
            "|[Charlotte Vega, Adain Bradley, Bill Sage, Emma Dumont, Dylan McTee, Daisy Head, Matthew Modine]                                                                                               |Wrong Turn, originally known as Wrong Turn: The Foundation, is a 2021 horror film directed by Mike P. Nelson and written by franchise creator Alan McElroy. The film, being a reboot, is the seventh installment of the Wrong Turn film series, stars Charlotte Vega, Adain Bradley, Emma Dumont, Dylan McTee, Daisy Head, Bill Sage, and Matthew Modine. It is an international co-production between the United States, Germany, and Canada.                                                                                                                                                                                                                                                                                                                                                                         |[Horror]                 |Wrong_Turn_(2021_film)                |https://upload.wikimedia.org/wikipedia/en/5/5d/WrongTurn2021poster.jpg                              |384             |259            |Wrong Turn                            |2021|\n",
            "|[Nicolas Cage, Emily Tosta, Ric Reitz, Beth Grant]                                                                                                                                             |Willy's Wonderland is a 2021 American action comedy horror film directed by Kevin Lewis from a screenplay by G. O. Parsons. The film stars Nicolas Cage, who also served as producer, along with Emily Tosta, Ric Reitz, Chris Warner, Kai Kadlec, Christian Del Grosso, Caylee Cowan, Terayle Hill, Jonathan Mercedes, David Sheftell and Beth Grant. It follows a quiet drifter who is tricked into cleaning up an abandoned family entertainment center as he is stalked by eight murderous animatronic characters possessed by the souls of a cannibalistic killer and his seven psychotic acolytes.                                                                                                                                                                                                               |[Action, Comedy, Horror] |Willy%27s_Wonderland                  |https://upload.wikimedia.org/wikipedia/en/e/e0/Willys_wonderland.jpg                                |384             |259            |Willy's Wonderland                    |2021|\n",
            "|[Dave Davis, Menashe Lustig, Malky Goldman, Fred Melamed, Lynn Cohen]                                                                                                                          |The Vigil is a 2019 American supernatural horror film written and directed by Keith Thomas in his feature directorial debut. It stars Dave Davis, Menashe Lustig, Malky Goldman, Fred Melamed and Lynn Cohen, and follows a young man who is tasked with keeping vigil over a deceased member of his former Orthodox Jewish community, only to be targeted by a malevolent spirit known as a Mazzik. Jason Blum serves as an executive producer through his Blumhouse Productions banner.                                                                                                                                                                                                                                                                                                                              |[Horror, Supernatural]   |The_Vigil_(2019_film)                 |https://upload.wikimedia.org/wikipedia/en/2/2e/The_Vigil_%282019%29_international_release_poster.jpg|327             |245            |The Vigil                             |2021|\n",
            "|[Guy Pearce, Vadhir Derbez, Stephen Lang, Keith David, Robin Bartlett]                                                                                                                         |The Seventh Day is a 2021 American horror film written and directed by Justin P. Lange. It stars Guy Pearce, Vadhir Derbez, Stephen Lang and Keith David.                                                                                                                                                                                                                                                                                                                                                                                                                                                                                                                                                                                                                                                              |[Horror]                 |The_Seventh_Day_(2021_film)           |https://upload.wikimedia.org/wikipedia/en/0/00/The_Seventh_Day_poster.jpg                           |382             |258            |The Seventh Day                       |2021|\n",
            "|[Jeffrey Dean Morgan, Katie Aselton, William Sadler, Cricket Brown, Diogo Morgado, Cary Elwes]                                                                                                 |The Unholy is a 2021 American supernatural horror film written, produced, and directed by Evan Spiliotopoulos, based on the 1983 novel Shrine by James Herbert. Produced by Sam Raimi through his Ghost House Pictures banner, it stars Jeffrey Dean Morgan, Katie Aselton, William Sadler, Diogo Morgado, Cricket Brown, and Cary Elwes. The film follows on a disgraced journalist (Morgan) who discovers a series of seemingly divine miracles in a small New England town and uses them to resurrect his career, though those ‘miracles’ may have a much darker source.                                                                                                                                                                                                                                            |[Horror, Supernatural]   |The_Unholy_(2021_film)                |https://upload.wikimedia.org/wikipedia/en/b/b2/The_Unholy_2021_Film_Poster.png                      |353             |282            |The Unholy                            |2021|\n",
            "|[Aidan Bristow, Sophie Kargman, Susan Wilder, Lindsay Ginter, Robbie Goldstein, Billy Zane]                                                                                                    |The Believer is a 2021 American horror film written and directed by Shan Serafin. It stars Aidan Bristow, Sophie Kargman, Susan Wilder, Lindsay Ginter, Robbie Goldstein and Billy Zane. It runs for 91 minutes. The film is about a woman driven murderously insane by a mad doctor's strange alternative therapy.                                                                                                                                                                                                                                                                                                                                                                                                                                                                                                    |[Horror]                 |The_Believer_(2021_film)              |https://upload.wikimedia.org/wikipedia/en/3/3a/Believer.jpg                                         |384             |259            |The Believer                          |2021|\n",
            "|[Francesca Anderson, Adrián Burke, Chris Cimperman, Ariella Mastroianni, Roger Mayer]                                                                                                          |Dawn of the Beast is a 2021 American horror film written by Anna Shields and directed by Bruce Wemple. It stars Francesca Anderson, Adrián Burke, Chris Cimperman, Ariella Mastroianni, Roger Mayer and Anna Shields. The film is about graduate students searching for a bigfoot.                                                                                                                                                                                                                                                                                                                                                                                                                                                                                                                                     |[Horror]                 |Dawn_of_the_Beast                     |https://upload.wikimedia.org/wikipedia/en/7/74/Dawn_of_the_Beast.jpeg                               |387             |258            |Dawn of the Beast                     |2021|\n",
            "|[Joel Fry, Reece Shearsmith, Hayley Squires, Ellora Torchia, John Hollingworth, Mark Monero]                                                                                                   |In the Earth is a 2021 science fiction horror film written and directed by Ben Wheatley. The film stars Joel Fry, Reece Shearsmith, Hayley Squires, Ellora Torchia, John Hollingworth and Mark Monero.                                                                                                                                                                                                                                                                                                                                                                                                                                                                                                                                                                                                                 |[Horror, Science Fiction]|In_the_Earth                          |https://upload.wikimedia.org/wikipedia/en/b/be/In_the_Earth_movie_poster.jpg                        |384             |259            |In the Earth                          |2021|\n",
            "|[Gina La Piana, Robert Miano, Johann Urb, Silvia Spross, Jackie Debatin, Nicolas Coster]                                                                                                       |The Deep Ones is a 2020 American horror science fiction film written and directed by Chad Ferrin and based on H.P. Lovecraft's 1931 novel The Shadow over Innsmouth. The film stars Gina La Piana, Robert Miano, Johann Urb, Silvia Spross, Jackie Debatin, Nicolas Coster and was produced by Chad Ferrin, Gina La Piana, Robert Miano and Jeff Olan. It was premiered at Sitges Film Festival on October 10, 2020. The film is about a couple that is recovering from a recent miscarriage encounters overly friendly locals and strange goings-on at a coastal getaway.                                                                                                                                                                                                                                             |[Horror, Science Fiction]|The_Deep_Ones                         |https://upload.wikimedia.org/wikipedia/en/b/b1/The_Deep_Ones.jpeg                                   |383             |260            |The Deep Ones                         |2021|\n",
            "|[Amanda Seyfried, James Norton, Natalia Dyer, F. Murray Abraham]                                                                                                                               |Things Heard & Seen is a 2021 American horror film written and directed by Shari Springer Berman and Robert Pulcini, based on the novel All Things Cease to Appear by Elizabeth Brundage. It stars Amanda Seyfried and James Norton. It was released on April 29, 2021, by Netflix, and received mostly negative reviews from critics.                                                                                                                                                                                                                                                                                                                                                                                                                                                                                 |[Horror]                 |Things_Heard_%26_Seen                 |https://upload.wikimedia.org/wikipedia/en/f/fb/Things_Heard_and_Seen_poster.jpeg                    |326             |220            |Things Heard & Seen                   |2021|\n",
            "|[Rupert Friend, Mamie Gummer, Violet McGraw, Brian Cox]                                                                                                                                        |Separation is a 2021 American supernatural horror film directed by William Brent Bell, from a screenplay by Nick Amadeus and Josh Braun. It stars Rupert Friend, Mamie Gummer, Madeline Brewer, Violet McGraw, Simon Quarterman, and Brian Cox. The film follows a father who must take care of his daughter, after his wife, who filed for divorce, suddenly dies in an accident, as the two become haunted by a mysterious entity.                                                                                                                                                                                                                                                                                                                                                                                   |[Horror, Supernatural]   |Separation_(2021_film)                |https://upload.wikimedia.org/wikipedia/en/5/5e/Separation_2021_Film_poster.png                      |385             |259            |Separation                            |2021|\n",
            "|[Brock O'Hurn, Avery Pascual, Michael Vlamis, Michelle Randolph, Bianca Haase]                                                                                                                 |The Resort is a 2021 American horror film written and directed by Taylor Chien. It stars Bianca Haase, Brock O'Hurn, Michael Vlamis, and Michelle Randolph. The movie was shot in 2019, and hip-hop artist Quavo helped produce it after being encouraged by main producer Will Meldman.                                                                                                                                                                                                                                                                                                                                                                                                                                                                                                                               |[Horror]                 |The_Resort_(film)                     |https://upload.wikimedia.org/wikipedia/en/a/a1/Resort_2021.jpg                                      |384             |259            |The Resort                            |2021|\n",
            "|[Karl Holt, Claire Cartwright, David Wayman, George Collie, James Parsons, Lydia Hourihan]                                                                                                     |Benny Loves You is a 2019 horror comedy film directed, written, and produced by Karl Holt. It stars Claire Cartwright, George Collie, James Parsons, David Wayman, Lydia Hourihan and Holt himself. The film premiered at the Buenos Aires Rojo Sangre on November 21, 2019.                                                                                                                                                                                                                                                                                                                                                                                                                                                                                                                                           |[Comedy, Horror]         |Benny_Loves_You                       |https://upload.wikimedia.org/wikipedia/en/6/67/Benny_Loves_You.jpeg                                 |377             |264            |Benny Loves You                       |2021|\n",
            "|[Dave Bautista, Ella Purnell, Omari Hardwick, Ana de la Reguera, Theo Rossi, Matthias Schweighöfer, Nora Arnezeder, Hiroyuki Sanada, Tig Notaro, Raúl Castillo, Huma Qureshi, Garret Dillahunt]|Army of the Dead is a 2021 American zombie heist film directed by Zack Snyder from a screenplay he co-wrote with Shay Hatten and Joby Harold, based on a story he also created. The film features an ensemble cast consisting of Dave Bautista, Ella Purnell, Omari Hardwick, Ana de la Reguera, Theo Rossi, Matthias Schweighöfer, Nora Arnezeder, Hiroyuki Sanada, Tig Notaro, Raúl Castillo, Huma Qureshi, and Garret Dillahunt. It follows a group of mercenaries who plan a Las Vegas casino heist amid a zombie apocalypse.                                                                                                                                                                                                                                                                                      |[Action, Horror]         |Army_of_the_Dead                      |https://upload.wikimedia.org/wikipedia/en/8/82/Army_of_the_Dead_poster.png                          |384             |259            |Army of the Dead                      |2021|\n",
            "|[Chris Rock, Max Minghella, Marisol Nichols, Samuel L. Jackson]                                                                                                                                |Spiral is a 2021 American horror film directed by Darren Lynn Bousman and written by Josh Stolberg and Peter Goldfinger. It is the ninth installment and spinoff of the Saw film series. The film stars Chris Rock, Max Minghella, Marisol Nichols, and Samuel L. Jackson, and follows police efforts to stop a Jigsaw copycat killer. The original creators of the series, James Wan and Leigh Whannell, as well as Rock and series veteran Kevin Greutert, serve as executive producers.                                                                                                                                                                                                                                                                                                                             |[Horror]                 |Spiral_(2021_film)                    |https://upload.wikimedia.org/wikipedia/en/e/e4/Spiral_Official_Poster.jpg                           |348             |220            |Spiral                                |2021|\n",
            "|[John Littlefield, Eric Roberts, Alyson Gorske, Stevonte Hart, Eliza Roberts]                                                                                                                  |616 Wilford Lane is a 2021 horror film written and directed by Mark S. Allen and Dante Yore. It stars John Littlefield, Eric Roberts, Alyson Gorske, and Jessica Chancellor. The film is about a widower who relocates his two teen daughters to a charming town, and into their dream home, which quickly becomes a nightmare.                                                                                                                                                                                                                                                                                                                                                                                                                                                                                        |[Horror]                 |616_Wilford_Lane                      |https://upload.wikimedia.org/wikipedia/en/6/6f/616_Wilford_Lane.jpeg                                |373             |267            |616 Wilford Lane                      |2021|\n",
            "|[Emily Blunt, Cillian Murphy, Millicent Simmonds, Noah Jupe, Djimon Hounsou, John Krasinski]                                                                                                   |A Quiet Place Part II is a 2020 American post-apocalyptic horror film written and directed by John Krasinski. It is the sequel to the 2018 film A Quiet Place, following the family from the first film as they continue to navigate and survive in a post-apocalyptic world inhabited by blind aliens with an acute sense of hearing. Emily Blunt, Millicent Simmonds, and Noah Jupe reprise their roles from the first film, while Cillian Murphy, Djimon Hounsou, and Okieriete Onaodowan join the cast, with Krasinski returning from the first film in a new flashback sequence.                                                                                                                                                                                                                                  |[Horror]                 |A_Quiet_Place_Part_II                 |https://upload.wikimedia.org/wikipedia/en/0/02/A_Quiet_Place_Part_II.jpg                            |376             |250            |A Quiet Place Part II                 |2021|\n",
            "|[Patrick Wilson, Vera Farmiga, Ruairi O'Connor, Sarah Catherine Hook, Julian Hilliard]                                                                                                         |The Conjuring: The Devil Made Me Do It is a 2021 American supernatural horror film directed by Michael Chaves, with a screenplay by David Leslie Johnson-McGoldrick from a story by Johnson-McGoldrick and James Wan. The film serves as a sequel to The Conjuring (2013) and The Conjuring 2 (2016), and as the eighth installment in The Conjuring Universe. Patrick Wilson and Vera Farmiga reprise their roles as paranormal investigators and authors Ed and Lorraine Warren, with Ruairi O'Connor, Sarah Catherine Hook, and Julian Hilliard also starring. Wan and Peter Safran return to produce the film, which is based on the trial of Arne Cheyenne Johnson, a murder trial that took place in 1981 Connecticut, in addition to The Devil in Connecticut, a book about the trial written by Gerald Brittle.|[Horror, Supernatural]   |The_Conjuring:_The_Devil_Made_Me_Do_It|https://upload.wikimedia.org/wikipedia/en/e/e8/The_Conjuring_-_The_Devil_Made_Me_Do_It.png          |371             |250            |The Conjuring: The Devil Made Me Do It|2021|\n",
            "|[Mike Epps, Katt Williams, Bresha Webb, Lil Duval, Zulay Henao, Tyrin Turner, Michael Blackson, Andrew Bachelor, Gary Owen, Danny Trejo]                                                       |The House Next Door: Meet the Blacks 2 is a 2021 American parody black comedy horror film directed by Deon Taylor, and written by Taylor and Corey Harrell. A sequel to the 2016 film Meet the Blacks, it stars Mike Epps and Katt Williams, with Bresha Webb, Lil Duval, Zulay Henao, Tyrin Turner, Michael Blackson, Andrew Bachelor, Gary Owen and Danny Trejo in supporting roles. In the film, which primarily satirizes Fright Night, Carl Black (Epps) moves his family back to his childhood home, encountering a mysterious new neighbor (Williams), a pimp who may be a vampire.                                                                                                                                                                                                                             |[Comedy, Horror, Satire] |The_House_Next_Door:_Meet_the_Blacks_2|https://upload.wikimedia.org/wikipedia/en/5/5a/Meet_the_Blacks_2_poster.jpg                         |370             |250            |The House Next Door: Meet the Blacks 2|2021|\n",
            "+-----------------------------------------------------------------------------------------------------------------------------------------------------------------------------------------------+-----------------------------------------------------------------------------------------------------------------------------------------------------------------------------------------------------------------------------------------------------------------------------------------------------------------------------------------------------------------------------------------------------------------------------------------------------------------------------------------------------------------------------------------------------------------------------------------------------------------------------------------------------------------------------------------------------------------------------------------------------------------------------------------------------------------------+-------------------------+--------------------------------------+----------------------------------------------------------------------------------------------------+----------------+---------------+--------------------------------------+----+\n",
            "only showing top 20 rows\n",
            "\n"
          ]
        }
      ]
    },
    {
      "cell_type": "code",
      "source": [
        "# Load the JSON file\n",
        "movies_df = spark.read.option(\"multiline\", True).json(\"movies-2020s.json\")\n",
        "\n",
        "from pyspark.sql.functions import array_contains\n",
        "\n",
        "# Filter Horror movies\n",
        "horror_movies_df = movies_df.filter(array_contains(col(\"genres\"), \"Horror\"))\n",
        "\n",
        "# Show the result\n",
        "horror_movies_df.show(truncate=False)\n"
      ],
      "metadata": {
        "colab": {
          "base_uri": "https://localhost:8080/"
        },
        "id": "GlbaJWyhtDDE",
        "outputId": "889282ad-7abc-46cb-cbf5-58fb69b0ebf5"
      },
      "execution_count": 4,
      "outputs": [
        {
          "output_type": "stream",
          "name": "stdout",
          "text": [
            "+-----------------------------------------------------------------------------------------------------------------+------------------------------------------------------------------------------------------------------------------------------------------------------------------------------------------------------------------------------------------------------------------------------------------------------------------------------------------------------------------------------------------------------------------------------------------------------------------------------------------------------------------------------------------------------------------------------------------------------------------------------------------+---------------------------------+----------------------------------+-----------------------------------------------------------------------------------------------------------+----------------+---------------+----------------------------------+----+\n",
            "|cast                                                                                                             |extract                                                                                                                                                                                                                                                                                                                                                                                                                                                                                                                                                                                                                                   |genres                           |href                              |thumbnail                                                                                                  |thumbnail_height|thumbnail_width|title                             |year|\n",
            "+-----------------------------------------------------------------------------------------------------------------+------------------------------------------------------------------------------------------------------------------------------------------------------------------------------------------------------------------------------------------------------------------------------------------------------------------------------------------------------------------------------------------------------------------------------------------------------------------------------------------------------------------------------------------------------------------------------------------------------------------------------------------+---------------------------------+----------------------------------+-----------------------------------------------------------------------------------------------------------+----------------+---------------+----------------------------------+----+\n",
            "|[Andrea Riseborough, Demián Bichir, John Cho, Betty Gilpin, Lin Shaye, Jacki Weaver]                             |The Grudge is a 2020 American psychological supernatural horror film written and directed by Nicolas Pesce. Originally announced as a reboot of the 2004 American remake and the original 2002 Japanese horror film Ju-On: The Grudge, the film ended up taking place before and during the events of the 2004 film and its two direct sequels, and is the fourth installment in the American The Grudge film series. The film stars Andrea Riseborough, Demián Bichir, John Cho, Betty Gilpin, Lin Shaye, and Jacki Weaver, and follows a police officer who investigates several murders that are seemingly connected to a single house.|[Horror, Supernatural]           |The_Grudge_(2020_film)            |https://upload.wikimedia.org/wikipedia/en/3/34/The_Grudge_2020_Poster.jpeg                                 |326             |220            |The Grudge                        |2020|\n",
            "|[Kristen Stewart, Vincent Cassel, Jessica Henwick, John Gallagher Jr., Mamoudou Athie, T.J. Miller]              |Underwater is a 2020 American science fiction action horror film directed by William Eubank. The film stars Kristen Stewart, Vincent Cassel, Jessica Henwick, John Gallagher Jr., Mamoudou Athie, and T.J. Miller.                                                                                                                                                                                                                                                                                                                                                                                                                        |[Action, Horror, Science Fiction]|Underwater_(film)                 |https://upload.wikimedia.org/wikipedia/en/4/4a/Underwater_poster.jpeg                                      |398             |250            |Underwater                        |2020|\n",
            "|[Mena Suvari, Nick Stahl, Taryn Manning]                                                                         |The Murder of Nicole Brown Simpson is a 2019 American crime horror film directed by Daniel Farrands. The film is loosely based on the murder of Nicole Brown Simpson, presenting a version of events in which Brown Simpson is murdered by serial killer Glen Edward Rogers, and not by O. J. Simpson, her ex-husband and the primary suspect in the case. Though Mena Suvari's performance as Nicole Brown was praised, the film was panned by critics.                                                                                                                                                                                  |[Crime, Horror]                  |The_Murder_of_Nicole_Brown_Simpson|https://upload.wikimedia.org/wikipedia/en/e/ed/The_Murder_of_Nicole_Brown_Simpson_poster.jpg               |380             |263            |The Murder of Nicole Brown Simpson|2020|\n",
            "|[Mackenzie Davis, Finn Wolfhard, Brooklynn Prince, Joely Richardson]                                             |The Turning is a 2020 American gothic supernatural horror film directed by Floria Sigismondi and written by Carey W. Hayes and Chad Hayes. It is a modern adaptation of the 1898 ghost story The Turn of the Screw by Henry James. It stars Mackenzie Davis, Finn Wolfhard, Brooklynn Prince, and Joely Richardson, and follows a young governess in 1994 who is hired to watch over two children after their parents are killed.                                                                                                                                                                                                         |[Horror, Supernatural]           |The_Turning_(2020_film)           |https://upload.wikimedia.org/wikipedia/en/a/a2/The_Turning_poster_2020.jpg                                 |397             |251            |The Turning                       |2020|\n",
            "|[Sophia Lillis, Sammy Leakey, Charles Babalola, Jessica De Gouw, Alice Krige]                                    |Gretel & Hansel is a 2020 dark fantasy horror film based on the German folklore tale \"Hansel and Gretel\" by the Brothers Grimm. The film is directed by Oz Perkins, and produced by Fred Berger, Brian Kavanaugh-Jones, and Dan Kagan, with a screenplay by Rob Hayes. Sophia Lillis and Sam Leakey portray the titular characters, alongside Alice Krige and Jessica De Gouw. The story follows Gretel and Hansel as they enter the dark woods in order to find work and food, and then stumble upon the home of a witch.                                                                                                                |[Fantasy, Horror]                |Gretel_%26_Hansel                 |https://upload.wikimedia.org/wikipedia/en/d/de/Gretel_%26_Hansel_-_A_Grim_Fairy_Tale_theatrical_poster.jpeg|326             |220            |Gretel & Hansel                   |2020|\n",
            "|[Riley Keough, Jaeden Martell, Lia McHugh, Richard Armitage, Alicia Silverstone]                                 |The Lodge is a 2019 psychological horror film directed by Veronika Franz and Severin Fiala, written by Franz, Fiala, and Sergio Casci, and starring Riley Keough, Jaeden Martell, Lia McHugh, Alicia Silverstone, and Richard Armitage. Its plot follows a soon-to-be stepmother who, alone with her fiancé's two children, becomes stranded at their rural lodge during Christmas. There, she and the children experience a number of unexplained events that seem to be connected to her past.                                                                                                                                          |[Horror]                         |The_Lodge_(film)                  |https://upload.wikimedia.org/wikipedia/en/c/cf/The_Lodge_poster.jpg                                        |326             |220            |The Lodge                         |2020|\n",
            "|[Michael Peña, Maggie Q, Lucy Hale, Austin Stowell, Portia Doubleday, Jimmy O. Yang, Ryan Hansen, Michael Rooker]|Fantasy Island, also known as Blumhouse's Fantasy Island, is a 2020 American supernatural horror film directed and co-written by Jeff Wadlow. Serving both as a horror reimagining and a prequel to ABC's 1977 television series of the same name, it stars Michael Peña, Maggie Q, Lucy Hale, Austin Stowell, Jimmy O. Yang, Ryan Hansen, Portia Doubleday, and Michael Rooker and follows a group of people who, while visiting the eponymous island, discover that their dream-like fantasies brought to life begin to turn into horrific living nightmares and they must try to survive.                                              |[Horror, Supernatural]           |Fantasy_Island_(film)             |https://upload.wikimedia.org/wikipedia/en/7/7e/Fantasy_Island_poster.jpg                                   |326             |220            |Fantasy Island                    |2020|\n",
            "|[Katie Holmes, Owain Yeoman, Christopher Convery, Ralph Ineson]                                                  |Brahms: The Boy II is a 2020 American supernatural horror film starring Katie Holmes, Ralph Ineson, Christopher Convery and Owain Yeoman. A sequel to the 2016 film The Boy, it is directed by William Brent Bell and written by Stacey Menear, the respective director and writer of the original film.                                                                                                                                                                                                                                                                                                                                  |[Horror, Supernatural]           |Brahms:_The_Boy_II                |https://upload.wikimedia.org/wikipedia/en/5/51/Brahms_The_Boy_Poster.jpg                                   |383             |259            |Brahms: The Boy II                |2020|\n",
            "|[Elisabeth Moss, Aldis Hodge, Storm Reid, Harriet Dyer, Michael Dorman, Oliver Jackson-Cohen]                    |The Invisible Man is a 2020 science fiction horror film written and directed by Leigh Whannell. Inspired by H. G. Wells' novel of the same name, it stars Elisabeth Moss as a woman who believes she is being stalked and gaslit by her seemingly deceased ex-boyfriend after he acquires the ability to become invisible. Aldis Hodge, Storm Reid, Harriet Dyer, and Michael Dorman appear in supporting roles.                                                                                                                                                                                                                          |[Horror, Science Fiction]        |The_Invisible_Man_(2020_film)     |https://upload.wikimedia.org/wikipedia/en/3/3a/The_Invisible_Man_%282020_film%29_-_release_poster.jpg      |383             |259            |The Invisible Man                 |2020|\n",
            "|[Betty Gilpin, Ike Barinholtz, Amy Madigan, Emma Roberts, Ethan Suplee, Hilary Swank]                            |The Hunt is a 2020 American horror thriller film directed by Craig Zobel and written by Nick Cuse and Damon Lindelof. The film stars Betty Gilpin, Hilary Swank, Ike Barinholtz, and Emma Roberts. Jason Blum was a producer under his Blumhouse Productions banner, along with Lindelof. Zobel and Lindelof have said that the film is intended as a satire on the profound political divide between the American left and right. It is about a group of elites who kidnap working class people to hunt them.                                                                                                                            |[Horror, Thriller]               |The_Hunt_(2020_film)              |https://upload.wikimedia.org/wikipedia/en/a/a9/The_Hunt_2020_poster.png                                    |397             |251            |The Hunt                          |2020|\n",
            "|[Alexandra Daddario, Keean Johnson, Logan Miller, Maddie Hasson, Amy Forsyth, Austin Swift, Johnny Knoxville]    |We Summon the Darkness is a 2019 American horror thriller film directed by Marc Meyers and written by Alan Trezza. The film stars Alexandra Daddario, Keean Johnson, Maddie Hasson, Amy Forsyth, Logan Miller, Austin Swift, and Johnny Knoxville.                                                                                                                                                                                                                                                                                                                                                                                        |[Horror, Thriller]               |We_Summon_the_Darkness            |https://upload.wikimedia.org/wikipedia/en/5/5d/We_Summon_the_Darkness_film_poster.png                      |326             |220            |We Summon the Darkness            |2020|\n",
            "|[Cody Renee Cameron, Russell Coker, Robin Sydney]                                                                |Corona Zombies is a 2020 American comedy horror film directed by Charles Band, and produced and distributed by Full Moon Features. Inspired by the COVID-19 pandemic, the film stars Cody Renee Cameron as Barbie, a woman who finds herself facing an outbreak of zombies infected by coronavirus disease 2019 (COVID-19). Alongside Cameron, the film stars Russell Coker and Robin Sydney.                                                                                                                                                                                                                                             |[Comedy, Horror]                 |Corona_Zombies                    |https://upload.wikimedia.org/wikipedia/en/2/2c/Corona_Zombies_%282020%29_poster.jpg                        |367             |245            |Corona Zombies                    |2020|\n",
            "|[John-Paul Howard, Piper Curda, Zarah Mahler, Kevin Bigley]                                                      |The Wretched is a 2019 American supernatural horror film written and directed by the Pierce Brothers. It stars John-Paul Howard, Piper Curda, Zarah Mahler, Kevin Bigley, Gabriela Quezada Bloomgarden, Richard Ellis, Blane Crockarell, Jamison Jones, and Azie Tesfai. The film follows a defiant teenage boy who faces off with an evil witch posing as the neighbor next door.                                                                                                                                                                                                                                                        |[Horror, Supernatural]           |The_Wretched_(film)               |https://upload.wikimedia.org/wikipedia/en/d/df/The_Wretched_%28film%29_poster.jpg                          |383             |259            |The Wretched                      |2020|\n",
            "|[Mary J. Blige, Nat Wolff, David Zayas, David Warshofsky, Demetrius Grosse, Anika Noni Rose]                     |Body Cam is a 2020 American police procedural horror film directed by Malik Vitthal, from a screenplay by Nicholas McCarthy and Richmond Riedel and a story by Riedel. The film stars Mary J. Blige, Nat Wolff, David Zayas, David Warshofsky, Demetrius Grosse and Anika Noni Rose.                                                                                                                                                                                                                                                                                                                                                      |[Horror]                         |Body_Cam_(film)                   |https://upload.wikimedia.org/wikipedia/en/b/b4/Body_Cam_poster.jpg                                         |387             |258            |Body Cam                          |2020|\n",
            "|[Kevin Bacon, Amanda Seyfried]                                                                                   |You Should Have Left is a 2020 American psychological horror film written and directed by David Koepp, based on the 2017 book of the same name by Daniel Kehlmann. It stars Kevin Bacon, and Amanda Seyfried. Jason Blum served as a producer through his Blumhouse Productions banner.                                                                                                                                                                                                                                                                                                                                                   |[Horror]                         |You_Should_Have_Left              |https://upload.wikimedia.org/wikipedia/en/7/73/You_Should_Have_Left_Poster_2020.jpeg                       |396             |252            |You Should Have Left              |2020|\n",
            "|[Emily Mortimer, Robyn Nevin, Bella Heathcote]                                                                   |Relic is a 2020 Australian psychological horror film directed by Natalie Erika James from a screenplay by James and Christian White. The film stars Emily Mortimer, Robyn Nevin, and Bella Heathcote.                                                                                                                                                                                                                                                                                                                                                                                                                                     |[Horror]                         |Relic_(2020_film)                 |https://upload.wikimedia.org/wikipedia/en/7/7a/Relic_poster.jpeg                                           |383             |259            |Relic                             |2020|\n",
            "|[Brenton Thwaites, Theo Rossi, Skylar Astin, Kyle Gallner, Alan Ritchson]                                        |Ghosts of War is a 2020 British supernatural horror film written and directed by Eric Bress. The film stars Brenton Thwaites, Theo Rossi, Skylar Astin, Kyle Gallner, and Alan Ritchson. It was released on DirecTV on 18 June 2020.                                                                                                                                                                                                                                                                                                                                                                                                      |[Horror, Supernatural]           |Ghosts_of_War_(2020_film)         |https://upload.wikimedia.org/wikipedia/en/7/72/Ghosts-of-War-Poster.jpg                                    |383             |259            |Ghosts of War                     |2020|\n",
            "|[Dan Stevens, Alison Brie, Sheila Vand, Jeremy Allen White, Toby Huss]                                           |The Rental is a 2020 American horror film co-written, produced and directed by Dave Franco, in his feature directorial debut. Franco co-wrote the screenplay with Joe Swanberg from a story by Franco, Swanberg, and Mike Demski. It stars Dan Stevens, Alison Brie, Sheila Vand, Jeremy Allen White, and Toby Huss, and follows two couples who begin to suspect they are being watched in the house they rented.                                                                                                                                                                                                                        |[Horror]                         |The_Rental                        |https://upload.wikimedia.org/wikipedia/en/7/7a/The_Rental_poster.jpg                                       |383             |259            |The Rental                        |2020|\n",
            "|[Tania Raymonde, Nathaniel Buzolic, Emerson Brooks, Bren Foster]                                                 |Deep Blue Sea 3 is a 2020 American science fiction natural horror film, starring Tania Raymonde. Dr. Emma Collins and her team are on Little Happy Island studying the effect of climate change on great white sharks who come to the nearby nursery every year to give birth, their peaceful life is disrupted when a \"scientific\" team shows up looking for three bull sharks. It is the third and final installment of the Deep Blue Sea film series, and a direct sequel to Deep Blue Sea 2.                                                                                                                                          |[Horror, Science Fiction]        |Deep_Blue_Sea_3                   |https://upload.wikimedia.org/wikipedia/en/9/98/Deep_Blue_Sea_3.jpg                                         |365             |273            |Deep Blue Sea 3                   |2020|\n",
            "|[Joe Keery, Sasheer Zamata, Mischa Barton, John DeLuca]                                                          |Spree is a 2020 American satirical horror thriller film directed by Eugene Kotlyarenko. The gonzo-style satire follows a social media obsessed rideshare driver played by Joe Keery who, in an attempt to become viral, livestreams himself murdering passengers. The film also stars Sasheer Zamata, David Arquette, Kyle Mooney and Mischa Barton. It was executive-produced by Drake.                                                                                                                                                                                                                                                  |[Horror, Thriller]               |Spree_(2020_film)                 |https://upload.wikimedia.org/wikipedia/en/8/8c/SpreePoster.jpeg                                            |316             |220            |Spree                             |2020|\n",
            "+-----------------------------------------------------------------------------------------------------------------+------------------------------------------------------------------------------------------------------------------------------------------------------------------------------------------------------------------------------------------------------------------------------------------------------------------------------------------------------------------------------------------------------------------------------------------------------------------------------------------------------------------------------------------------------------------------------------------------------------------------------------------+---------------------------------+----------------------------------+-----------------------------------------------------------------------------------------------------------+----------------+---------------+----------------------------------+----+\n",
            "only showing top 20 rows\n",
            "\n"
          ]
        }
      ]
    },
    {
      "cell_type": "markdown",
      "source": [
        "1.dWhich movies has the longest abstract?"
      ],
      "metadata": {
        "id": "lW1_clyttQLf"
      }
    },
    {
      "cell_type": "code",
      "source": [
        "# Calculate the lengths of the 'extract' field (assuming this is the abstract)\n",
        "movies_df = movies_df.withColumn(\"extract_length\", length(col(\"extract\")))\n",
        "\n",
        "# Find the movie with the longest 'extract'\n",
        "longest_extract_movie = movies_df.orderBy(col(\"extract_length\").desc()).select(\"title\", \"extract_length\").first()\n",
        "\n",
        "# Print the result for the movie with the longest 'extract'\n",
        "print(\"\\nMovie with the Longest Extract:\")\n",
        "print(\"Title:\", longest_extract_movie[\"title\"])\n",
        "print(\"Extract Length:\", longest_extract_movie[\"extract_length\"])"
      ],
      "metadata": {
        "colab": {
          "base_uri": "https://localhost:8080/"
        },
        "id": "CoW8ns6wuCuo",
        "outputId": "dcee665e-7c92-4bd6-dd2c-9e932fcbf1a3"
      },
      "execution_count": 5,
      "outputs": [
        {
          "output_type": "stream",
          "name": "stdout",
          "text": [
            "\n",
            "Movie with the Longest Extract:\n",
            "Title: Puss in Boots: The Last Wish\n",
            "Extract Length: 1389\n"
          ]
        }
      ]
    },
    {
      "cell_type": "markdown",
      "source": [
        "\n",
        "2.a) Create a function to genereate a random point (use random.random() ) and compute if this point is in the unit circle. Your function must take a number as argument (even if it does not use it)"
      ],
      "metadata": {
        "id": "a7ojeJxyuh34"
      }
    },
    {
      "cell_type": "code",
      "source": [
        "from pyspark import SparkContext\n",
        "import random\n",
        "\n",
        "def is_point_in_unit_circle(point):\n",
        "    x, y = point\n",
        "    return x**2 + y**2 <= 1"
      ],
      "metadata": {
        "id": "YycLq19_uHW_"
      },
      "execution_count": 6,
      "outputs": []
    },
    {
      "cell_type": "markdown",
      "source": [
        "2.b) Test your function on some iteration"
      ],
      "metadata": {
        "id": "zTFxl86Buqqp"
      }
    },
    {
      "cell_type": "code",
      "source": [
        "for _ in range(5):\n",
        "        print(is_point_in_unit_circle((random.random(), random.random())))"
      ],
      "metadata": {
        "colab": {
          "base_uri": "https://localhost:8080/"
        },
        "id": "veVzyiKA1cAA",
        "outputId": "0113d730-4c8c-468e-a530-a4e024e13bd4"
      },
      "execution_count": 7,
      "outputs": [
        {
          "output_type": "stream",
          "name": "stdout",
          "text": [
            "False\n",
            "False\n",
            "False\n",
            "True\n",
            "True\n"
          ]
        }
      ]
    },
    {
      "cell_type": "markdown",
      "source": [
        "2.c) Now, let’s use the power of Spark to compute the approximation of pi: we will create a RDD with N values inside. We can now filter this RDD. filter is a method that take a boolean function as argument. It then applu this function to every element of the RDD and only keep the ones that returned true (hence the need of a value as argument for our function).\n",
        "d) We now only need to count() the number of entry and multiply it by N4"
      ],
      "metadata": {
        "id": "FLQ_F0F3uyhM"
      }
    },
    {
      "cell_type": "code",
      "source": [
        "def approximate_pi_spark(sc, N):\n",
        "    # Create an RDD with N random points\n",
        "    points_rdd = sc.parallelize([(random.random(), random.random()) for _ in range(N)])\n",
        "\n",
        "    # Use filter to keep only points inside the unit circle\n",
        "    inside_circle_rdd = points_rdd.filter(is_point_in_unit_circle)\n",
        "\n",
        "    # Count the number of points inside the unit circle\n",
        "    inside_circle_count = inside_circle_rdd.count()\n",
        "\n",
        "    # Compute the approximation of pi\n",
        "    pi_approximation = (inside_circle_count / N) * 4\n",
        "\n",
        "    return pi_approximation"
      ],
      "metadata": {
        "id": "GDLah8mwuxI9"
      },
      "execution_count": 8,
      "outputs": []
    },
    {
      "cell_type": "markdown",
      "source": [
        "2.e)Try this method with N=1000, 50000, 800000."
      ],
      "metadata": {
        "id": "zRBwksHUvCPD"
      }
    },
    {
      "cell_type": "code",
      "source": [
        "from pyspark import SparkContext\n",
        "\n",
        "def main():\n",
        "    # Check if a SparkContext already exists\n",
        "    sc = SparkContext.getOrCreate()\n",
        "\n",
        "    # Use Spark to approximate pi with different values of N\n",
        "    N_values = [1000, 50000, 800000]\n",
        "    for N in N_values:\n",
        "        pi_approximation = approximate_pi_spark(sc, N)\n",
        "        print(f\"Approximation of pi with N={N}: {pi_approximation}\")\n",
        "\n",
        "\n",
        "if __name__ == \"__main__\":\n",
        "    main()\n"
      ],
      "metadata": {
        "colab": {
          "base_uri": "https://localhost:8080/"
        },
        "id": "vJJentqw0rlg",
        "outputId": "d6cf49de-8ad5-4878-c4d2-070c0fc27d84"
      },
      "execution_count": 9,
      "outputs": [
        {
          "output_type": "stream",
          "name": "stdout",
          "text": [
            "Approximation of pi with N=1000: 3.144\n",
            "Approximation of pi with N=50000: 3.1352\n",
            "Approximation of pi with N=800000: 3.144155\n"
          ]
        }
      ]
    },
    {
      "cell_type": "markdown",
      "source": [
        "2.f) if we ofter repeat a method with the exact same parameters, we like to embedded in another method. This will be the case as we want to write every answer in the same file/folder. This method must check if the object is an RDD, a DataFrame or another class to determine which write methode to use."
      ],
      "metadata": {
        "id": "Ms5e9qL61ov2"
      }
    },
    {
      "cell_type": "code",
      "source": [
        "def write_spark_object(spark_object, file_path):\n",
        "    if isinstance(spark_object, RDD):\n",
        "        spark_object.saveAsTextFile(file_path)\n",
        "    elif isinstance(spark_object, DataFrame):\n",
        "        spark_object.write.csv(file_path)\n",
        "    else:\n",
        "        with open(file_path, 'w') as file:\n",
        "            file.write(str(spark_object))"
      ],
      "metadata": {
        "id": "796JORKi11ge"
      },
      "execution_count": 10,
      "outputs": []
    },
    {
      "cell_type": "markdown",
      "source": [
        "3.a) Read the movie.csv file with the read command and the header option. How many lines are in the dataframe? You can access the columns and their types with df.columns and df.dtypes"
      ],
      "metadata": {
        "id": "AUIB5uJK2mB9"
      }
    },
    {
      "cell_type": "code",
      "source": [
        "from pyspark.sql import SparkSession\n",
        "\n",
        "# Initialize Spark session\n",
        "spark = SparkSession.builder.appName(\"Movies Analysis\").getOrCreate()\n",
        "\n",
        "# Read the 'movies.csv' file\n",
        "df = spark.read.option(\"header\", True).csv(\"movies.csv\")\n",
        "\n",
        "# Count the number of lines\n",
        "line_count = df.count()\n",
        "print(\"Number of lines in the DataFrame:\", line_count)\n",
        "\n",
        "# Access columns and their types\n",
        "print(\"Columns:\", df.columns)\n",
        "print(\"Data Types:\", df.dtypes)"
      ],
      "metadata": {
        "colab": {
          "base_uri": "https://localhost:8080/"
        },
        "id": "Z92bXwzI2sPa",
        "outputId": "c95cef91-a720-47f9-cd98-86cafb209cee"
      },
      "execution_count": 11,
      "outputs": [
        {
          "output_type": "stream",
          "name": "stdout",
          "text": [
            "Number of lines in the DataFrame: 45572\n",
            "Columns: ['adult', 'belongs_to_collection', 'budget', 'genres', 'homepage', 'id', 'imdb_id', 'original_language', 'original_title', 'overview', 'popularity', 'poster_path', 'production_companies', 'production_countries', 'release_date', 'revenue', 'runtime', 'spoken_languages', 'status', 'tagline', 'title', 'video', 'vote_average', 'vote_count']\n",
            "Data Types: [('adult', 'string'), ('belongs_to_collection', 'string'), ('budget', 'string'), ('genres', 'string'), ('homepage', 'string'), ('id', 'string'), ('imdb_id', 'string'), ('original_language', 'string'), ('original_title', 'string'), ('overview', 'string'), ('popularity', 'string'), ('poster_path', 'string'), ('production_companies', 'string'), ('production_countries', 'string'), ('release_date', 'string'), ('revenue', 'string'), ('runtime', 'string'), ('spoken_languages', 'string'), ('status', 'string'), ('tagline', 'string'), ('title', 'string'), ('video', 'string'), ('vote_average', 'string'), ('vote_count', 'string')]\n"
          ]
        }
      ]
    },
    {
      "cell_type": "markdown",
      "source": [
        "3.b)We can access the column of the df with df.col_name. The method filter or where behave like the previous filter. Use this to get the number of movies from 2012\n"
      ],
      "metadata": {
        "id": "cor_JT373dQ4"
      }
    },
    {
      "cell_type": "code",
      "source": [
        "from pyspark.sql.functions import year\n",
        "\n",
        "movies_2012_count = df.filter(year(df.release_date) == 2012).count()\n",
        "print(\"Number of movies from 2012:\", movies_2012_count)\n"
      ],
      "metadata": {
        "colab": {
          "base_uri": "https://localhost:8080/"
        },
        "id": "1hPd3cPD3c3I",
        "outputId": "fe845f8c-bb9a-4271-c013-c23164b6be04"
      },
      "execution_count": 12,
      "outputs": [
        {
          "output_type": "stream",
          "name": "stdout",
          "text": [
            "Number of movies from 2012: 1599\n"
          ]
        }
      ]
    },
    {
      "cell_type": "markdown",
      "source": [
        "3.c)Use the select to keep the title, budget and revenue from movie that were profitable\n"
      ],
      "metadata": {
        "id": "wEod6MZo3puz"
      }
    },
    {
      "cell_type": "code",
      "source": [
        "profitable_movies = df.filter(df.revenue > df.budget).select(\"title\", \"budget\", \"revenue\")\n",
        "profitable_movies.show()"
      ],
      "metadata": {
        "colab": {
          "base_uri": "https://localhost:8080/"
        },
        "id": "YFQxfiVJ3trq",
        "outputId": "53a03eda-9cd8-4e56-fb05-5e80e9b14b4f"
      },
      "execution_count": 13,
      "outputs": [
        {
          "output_type": "stream",
          "name": "stdout",
          "text": [
            "+--------------------+--------+--------------------+\n",
            "|               title|  budget|             revenue|\n",
            "+--------------------+--------+--------------------+\n",
            "|           Toy Story|30000000|           373554033|\n",
            "|[{'iso_639_1': 'e...|16000000|[{'name': 'Twenti...|\n",
            "|Father of the Bri...|       0|            76578911|\n",
            "|        Sudden Death|35000000|            64350171|\n",
            "|               Balto|       0|            11348324|\n",
            "|          Four Rooms| 4000000|             4300000|\n",
            "|   Leaving Las Vegas| 3600000|            49800000|\n",
            "|        Now and Then|12000000|            27400000|\n",
            "|     Dangerous Minds|       0|           180000000|\n",
            "|    Dead Man Walking|11000000|            39363635|\n",
            "|Cry, the Beloved ...|       0|              676525|\n",
            "|[{'iso_639_1': 'e...|10000000|[{'name': 'Carava...|\n",
            "|          To Die For|20000000|            21284514|\n",
            "|How To Make An Am...|10000000|            23574130|\n",
            "|[{'iso_639_1': 'e...|33000000|[{'name': 'New Li...|\n",
            "|    Mighty Aphrodite|15000000|             6700000|\n",
            "|Home for the Holi...|       0|            17519169|\n",
            "|  Mr. Holland's Opus|       0|           106269971|\n",
            "|Bud and Doyle are...|15000000|          1996-01-12|\n",
            "|Lawnmower Man 2: ...|       0|             2409225|\n",
            "+--------------------+--------+--------------------+\n",
            "only showing top 20 rows\n",
            "\n"
          ]
        }
      ]
    },
    {
      "cell_type": "markdown",
      "source": [
        "3.d)The colRegex method is useful to put a regex. Use it to fine every movies with a number in it’s title"
      ],
      "metadata": {
        "id": "xbRYU2l930FR"
      }
    },
    {
      "cell_type": "code",
      "source": [
        "movies_with_number = df.filter(df.title.rlike(\"\\d\"))\n",
        "movies_with_number.show()"
      ],
      "metadata": {
        "colab": {
          "base_uri": "https://localhost:8080/"
        },
        "id": "vWHQdtdU34kQ",
        "outputId": "a2efd137-c58e-4212-8d25-e87f5cd47155"
      },
      "execution_count": 14,
      "outputs": [
        {
          "output_type": "stream",
          "name": "stdout",
          "text": [
            "+-----+---------------------+--------+--------------------+--------------------+------+---------+-----------------+--------------------+--------------------+--------------------+--------------------+--------------------+--------------------+--------------------+--------------------+--------------------+--------------------+--------------------+--------------------+--------------------+--------------------+--------------------+--------------------+\n",
            "|adult|belongs_to_collection|  budget|              genres|            homepage|    id|  imdb_id|original_language|      original_title|            overview|          popularity|         poster_path|production_companies|production_countries|        release_date|             revenue|             runtime|    spoken_languages|              status|             tagline|               title|               video|        vote_average|          vote_count|\n",
            "+-----+---------------------+--------+--------------------+--------------------+------+---------+-----------------+--------------------+--------------------+--------------------+--------------------+--------------------+--------------------+--------------------+--------------------+--------------------+--------------------+--------------------+--------------------+--------------------+--------------------+--------------------+--------------------+\n",
            "|False|                 NULL|16000000|[{'id': 35, 'name...|                NULL| 31357|tt0114885|               en|   Waiting to Exhale|\"Cheated on, mist...|              Bernie| Glo and Robin ta...| determined to fi...|            3.859495|/16XOMpEaLWkrcPqS...|[{'name': 'Twenti...|[{'iso_3166_1': '...|          1995-12-22|            81452156|               127.0|[{'iso_639_1': 'e...|            Released|Friends are the p...|   Waiting to Exhale|\n",
            "|False| {'id': 91698, 'na...|30250000|[{'id': 35, 'name...|                NULL|  8012|tt0113161|               en|          Get Shorty|\"Chili Palmer is ...| to collect a bad...| a Hollywood prod...| the romantic spa...| Chili learns tha...|           12.669608|/vWtDUUgQAsVyvRW4...|[{'name': 'Jersey...|[{'iso_3166_1': '...|          1995-10-20|           115101622|               105.0|[{'iso_639_1': 'e...|            Released|The mob is tough,...|\n",
            "|False|                 NULL|10000000|[{'id': 28, 'name...|                NULL| 11443|tt0112819|               en|     Dead Presidents|\"Depicts a heist ...|        more broadly| it addresses the...|  during the 1960s.\"|             9.87957|/2dLyvXVvJXUR9oto...|[{'name': 'Carava...|[{'iso_3166_1': '...|          1995-10-06|                   0|               119.0|[{'iso_639_1': 'e...|            Released|In this daring he...|     Dead Presidents|\n",
            "|False|                 NULL|33000000|[{'id': 80, 'name...|http://www.sevenm...|   807|tt0114369|               en|               Se7en|\"Two homicide det...| while his novice...|               Mills| scoffs at his ef...|            18.45743|/8zw8IL4zEPjkh8Ay...|[{'name': 'New Li...|[{'iso_3166_1': '...|          1995-09-22|           327311859|               127.0|[{'iso_639_1': 'e...|            Released|Seven deadly sins...|               Se7en|\n",
            "|False| {'id': 124935, 'n...|       0|[{'id': 28, 'name...|                NULL| 11525|tt0116839|               en|Lawnmower Man 2: ...|Jobe is resuscita...|             2.49535|/i0hBsWBLw64XRehF...|[{'name': 'New Li...|[{'iso_3166_1': '...|          1996-01-12|             2409225|                92.0|[{'iso_639_1': 'e...|            Released|God made him simp...|Lawnmower Man 2: ...|               False|                 2.8|                  32|\n",
            "|False|                 NULL|44000000|[{'id': 18, 'name...|                NULL|  9623|tt0116731|               en|           The Juror|\"With his gangste...| implying that he...|                 but| when it becomes ...| she sends Oliver...| setting up a fin...|            6.010579|/7aXOB0DyZPxNOYba...|[{'name': 'Columb...|[{'iso_3166_1': '...|          1996-02-02|                   0|               118.0|[{'iso_639_1': 'e...|            Released|\n",
            "|False|                 NULL|       0|                  []|                NULL|188588|tt0113612|               en|Last Summer in th...|\"Filmed entirely ...|           directors| and playwrights....| comic as well as...| and the family's...|            0.531159|/pfgpkDNcwSi1x4jV...|                  []|                  []|          1995-11-22|                   0|               108.0|                  []|            Released|                NULL|\n",
            "|False|                 NULL|       0|[{'id': 35, 'name...|                NULL|  9283|tt0115639|               en|     Beautiful Girls|\"During a snowy w...|       Massachusetts| a group of lifel...| drink and strugg...| dreams and desir...|            4.670562|/8leYqrAL6EubYjOC...|[{'name': 'Mirama...|[{'iso_3166_1': '...|          1996-02-09|                   0|               112.0|[{'iso_639_1': 'e...|            Released|Good times never ...|\n",
            "|False|                 NULL|52000000|[{'id': 18, 'name...|                NULL|   568|tt0112384|               en|           Apollo 13|The true story of...|           18.761467|/6JQ9z3V9x4vlU2GS...|[{'name': 'Imagin...|[{'iso_3166_1': '...|          1995-06-30|           355237933|               140.0|[{'iso_639_1': 'e...|            Released|Houston, we have ...|           Apollo 13|               False|                 7.3|                1637|\n",
            "|False| {'id': 9328, 'nam...|       0|[{'id': 12, 'name...|                NULL|  9073|tt0113114|               en|Free Willy 2 - Th...|Jesse becomes reu...|            7.575098|/yLyyjm4m3fSvbazy...|[{'name': 'Regenc...|[{'iso_3166_1': '...|          1995-07-19|                   0|                95.0|[{'iso_639_1': 'e...|            Released|The adventure is ...|Free Willy 2 - Th...|               False|                 5.5|                 130|\n",
            "|False|                 NULL|       0|[{'id': 18, 'name...|                NULL| 32646|tt0114323|               en|                Safe|\"Carol, a typical...|\"\" has unexplaine...|          congestion|         a dry cough|          nosebleeds|            vomiting| and trouble brea...| an allergist tel...|            8.180047|/ihX2udk636JMAAaW...|[{'name': 'Killer...|[{'iso_3166_1': '...|          1995-06-23|                   0|               119.0|\n",
            "|False|                 NULL|       0|[{'id': 18, 'name...|                NULL|139408|tt0114534|               en|The Stars Fell on...|The setting is ea...|            0.913522|/5mkH38tcztyLy6Ce...|\"[{'name': 'Malpa...|         'id': 3864}| {'name': 'Warner...|       'id': 6194}]\"|[{'iso_3166_1': '...|          1995-09-15|                   0|               109.0|[{'iso_639_1': 'h...|            Released|                NULL|The Stars Fell on...|\n",
            "|False|                 NULL|       0|[{'id': 18, 'name...|                NULL| 47939|tt0114663|               en|        Three Wishes|\"While Jane Holma...|      and Jack's dog| and are never su...|              family| and learning tha...|           11.002046|/ub79b63JJV4oeHwo...|[{'name': 'Savoy ...|[{'iso_3166_1': '...|          1995-10-27|             7025496|               115.0|[{'iso_639_1': 'e...|            Released|If you really bel...|\n",
            "|False| {'id': 112399, 'n...|60000000|[{'id': 28, 'name...|                NULL|  3512|tt0114781|               en|Under Siege 2: Da...|A passenger train...|            7.490247|/6Z1p71nkm45cYuIZ...|[{'name': 'Regenc...|[{'iso_3166_1': '...|          1995-07-13|           104324083|               100.0|[{'iso_639_1': 'e...|            Released|Last time he rock...|Under Siege 2: Da...|               False|                 5.6|                 217|\n",
            "|False|                 NULL|       0|[{'id': 99, 'name...|                NULL| 77350|tt0114805|               en|            Unzipped|\"Using a variety ...|              actors| and actresses po...| but Douglas Keev...|            0.786023|/5fY5iN8mUBLdd4fm...|                  []|[{'iso_3166_1': '...|          1995-08-11|                   0|                73.0|[{'iso_639_1': 'e...|            Released|                NULL|            Unzipped|\n",
            "|False|                 NULL|18000000|[{'id': 35, 'name...|                NULL|   522|tt0109707|               en|             Ed Wood|\"The mostly true ...|                 who| with the help of...| filmed countless...|           11.720358|/9qBe2sUDyY2dFH1i...|[{'name': 'Touchs...|[{'iso_3166_1': '...|          1994-09-27|             5887457|               127.0|[{'iso_639_1': 'e...|            Released|When it came to m...|             Ed Wood|\n",
            "|False|                 NULL|       0|[{'id': 35, 'name...|                NULL| 18713|tt0110189|               en|      The Jerky Boys|\"When two unemplo...| the trouble begi...|          the police| and their neighb...|            0.748846|/lXu3oa1mQzI2sDsF...|[{'name': 'Carava...|[{'iso_3166_1': '...|          1995-02-03|                   0|                82.0|[{'iso_639_1': 'e...|            Released|                NULL|      The Jerky Boys|\n",
            "|False|                 NULL|       0|[{'id': 18, 'name...|                NULL| 49980|tt0110296|               en|   Ladybird Ladybird|\"This Ken Loach d...| a Paraguayan exp...| and they start a...| Social Services ...|      and separately| fight Social Ser...|         Immigration| and other govern...|             0.84508|/9YgIxxPsWMwoIFrB...|[{'name': 'Channe...|[{'iso_3166_1': '...|          1994-02-18|                   0|               101.0|\n",
            "|False|                 NULL|45000000|[{'id': 18, 'name...|                NULL|  3036|tt0109836|               en|        Frankenstein|\"Based on Mary Sh...| a promising youn...| devastated by th...| becomes obsessed...| which Frankenste...|           14.287753|/uG0YLHdiBuWBv99M...|[{'name': 'Americ...|[{'iso_3166_1': '...|          1994-11-04|           112006296|               123.0|[{'iso_639_1': 'e...|            Released|Be Warned.  It's ...|\n",
            "|False|                 NULL|       0|[{'id': 14, 'name...|                NULL| 10510|tt0110527|               en|Miracle on 34th S...|A little girl dis...|            5.831622|/iuI31j8DM4TOxJTZ...|[{'name': 'Twenti...|[{'iso_3166_1': '...|          1994-11-18|            46264384|               114.0|[{'iso_639_1': 'e...|            Released|If you really bel...|Miracle on 34th S...|               False|                 6.4|                 199|\n",
            "+-----+---------------------+--------+--------------------+--------------------+------+---------+-----------------+--------------------+--------------------+--------------------+--------------------+--------------------+--------------------+--------------------+--------------------+--------------------+--------------------+--------------------+--------------------+--------------------+--------------------+--------------------+--------------------+\n",
            "only showing top 20 rows\n",
            "\n"
          ]
        }
      ]
    },
    {
      "cell_type": "markdown",
      "source": [
        "3.e)The dataframe can run the join command, to perform join on table when possinle. We can now use the rating table to get a dataframe with the rating, budget, revenue, date (year), orignal language."
      ],
      "metadata": {
        "id": "I22GrMka4J3E"
      }
    },
    {
      "cell_type": "code",
      "source": [
        "# Read the ratings CSV file\n",
        "ratings_df = spark.read.option(\"header\", True).csv(\"ratings.csv\")\n",
        "\n",
        "# Perform the join\n",
        "joined_df = df.join(ratings_df, df.id == ratings_df.movieId).select(df.title, df.budget, df.revenue, df.release_date, df.original_language, ratings_df.rating)\n",
        "\n",
        "# Show the joined DataFrame\n",
        "joined_df.show()"
      ],
      "metadata": {
        "colab": {
          "base_uri": "https://localhost:8080/"
        },
        "id": "VE_1_CWZ4O6N",
        "outputId": "8e1ca846-6369-44a9-a9ef-68f6f6e28db2"
      },
      "execution_count": 15,
      "outputs": [
        {
          "output_type": "stream",
          "name": "stdout",
          "text": [
            "+----------------+--------+---------+------------+-----------------+------+\n",
            "|           title|  budget|  revenue|release_date|original_language|rating|\n",
            "+----------------+--------+---------+------------+-----------------+------+\n",
            "|            Heat|60000000|187436818|  1995-12-15|               en|   4.0|\n",
            "|            Heat|60000000|187436818|  1995-12-15|               en|   4.0|\n",
            "|            Heat|60000000|187436818|  1995-12-15|               en|   4.0|\n",
            "|            Heat|60000000|187436818|  1995-12-15|               en|   4.0|\n",
            "|            Heat|60000000|187436818|  1995-12-15|               en|   4.0|\n",
            "|       GoldenEye|58000000|352194034|  1995-11-16|               en|   2.5|\n",
            "|Cutthroat Island|98000000| 10017322|  1995-12-22|               en|   4.5|\n",
            "|Cutthroat Island|98000000| 10017322|  1995-12-22|               en|   4.5|\n",
            "|Cutthroat Island|98000000| 10017322|  1995-12-22|               en|   5.0|\n",
            "|Cutthroat Island|98000000| 10017322|  1995-12-22|               en|   3.0|\n",
            "|Cutthroat Island|98000000| 10017322|  1995-12-22|               en|   1.0|\n",
            "|Cutthroat Island|98000000| 10017322|  1995-12-22|               en|   3.0|\n",
            "|Cutthroat Island|98000000| 10017322|  1995-12-22|               en|   3.0|\n",
            "|Cutthroat Island|98000000| 10017322|  1995-12-22|               en|   4.0|\n",
            "|Cutthroat Island|98000000| 10017322|  1995-12-22|               en|   2.0|\n",
            "|Cutthroat Island|98000000| 10017322|  1995-12-22|               en|   5.0|\n",
            "|Cutthroat Island|98000000| 10017322|  1995-12-22|               en|   4.5|\n",
            "|Cutthroat Island|98000000| 10017322|  1995-12-22|               en|   4.0|\n",
            "|Cutthroat Island|98000000| 10017322|  1995-12-22|               en|   5.0|\n",
            "|Cutthroat Island|98000000| 10017322|  1995-12-22|               en|   4.0|\n",
            "+----------------+--------+---------+------------+-----------------+------+\n",
            "only showing top 20 rows\n",
            "\n"
          ]
        }
      ]
    },
    {
      "cell_type": "markdown",
      "source": [
        "3.f)Check the Schema of the last dataframe obtained. If needed cast the columns into float (use cast(’float’))"
      ],
      "metadata": {
        "id": "NmNmh3w-4PUw"
      }
    },
    {
      "cell_type": "code",
      "source": [
        "# Check the schema\n",
        "joined_df.printSchema()\n",
        "\n",
        "# Cast columns to float if needed\n",
        "joined_df = joined_df.withColumn(\"budget\", joined_df.budget.cast('float')).withColumn(\"revenue\", joined_df.revenue.cast('float'))\n",
        "\n",
        "# Check the schema again after casting\n",
        "joined_df.printSchema()"
      ],
      "metadata": {
        "colab": {
          "base_uri": "https://localhost:8080/"
        },
        "id": "_YwrH_bN4SxY",
        "outputId": "111e660f-c76e-4c77-fadd-bed776d2de47"
      },
      "execution_count": 16,
      "outputs": [
        {
          "output_type": "stream",
          "name": "stdout",
          "text": [
            "root\n",
            " |-- title: string (nullable = true)\n",
            " |-- budget: string (nullable = true)\n",
            " |-- revenue: string (nullable = true)\n",
            " |-- release_date: string (nullable = true)\n",
            " |-- original_language: string (nullable = true)\n",
            " |-- rating: string (nullable = true)\n",
            "\n",
            "root\n",
            " |-- title: string (nullable = true)\n",
            " |-- budget: float (nullable = true)\n",
            " |-- revenue: float (nullable = true)\n",
            " |-- release_date: string (nullable = true)\n",
            " |-- original_language: string (nullable = true)\n",
            " |-- rating: string (nullable = true)\n",
            "\n"
          ]
        }
      ]
    },
    {
      "cell_type": "markdown",
      "source": [
        "4.a) First step, as always, load the file into spartk. How many rows are in the file? Make sure that you have a DataFrame object"
      ],
      "metadata": {
        "id": "VU-i1Z9u5Bdd"
      }
    },
    {
      "cell_type": "code",
      "source": [
        "from pyspark.sql import SparkSession\n",
        "\n",
        "# Initialize Spark session\n",
        "spark = SparkSession.builder.appName(\"Titanic Data Analysis\").getOrCreate()\n",
        "\n",
        "# Load the Titanic dataset\n",
        "titanic_df = spark.read.option(\"header\", True).csv(\"train.csv\")\n",
        "\n",
        "# Count the number of rows\n",
        "row_count = titanic_df.count()\n",
        "print(\"Number of rows in the Titanic dataset:\", row_count)"
      ],
      "metadata": {
        "colab": {
          "base_uri": "https://localhost:8080/"
        },
        "id": "fZ1MlEtP50hs",
        "outputId": "e2c450b7-f44a-44a8-f4bf-9704255f0b59"
      },
      "execution_count": 17,
      "outputs": [
        {
          "output_type": "stream",
          "name": "stdout",
          "text": [
            "Number of rows in the Titanic dataset: 891\n"
          ]
        }
      ]
    },
    {
      "cell_type": "markdown",
      "source": [
        "4.b) The command df.toPandas() shoudl make for a better vizualisation. However it will only work with small dataset as the data must be in memory"
      ],
      "metadata": {
        "id": "4vRRKZaq51HI"
      }
    },
    {
      "cell_type": "code",
      "source": [
        "# Convert to Pandas DataFrame for visualization\n",
        "titanic_pd_df = titanic_df.toPandas()\n",
        "titanic_pd_df.head()"
      ],
      "metadata": {
        "colab": {
          "base_uri": "https://localhost:8080/",
          "height": 496
        },
        "id": "a1U6YPSJ54Ip",
        "outputId": "8e9fbad9-0b1d-4b65-f7b1-64f2a951b5c4"
      },
      "execution_count": 18,
      "outputs": [
        {
          "output_type": "execute_result",
          "data": {
            "text/plain": [
              "  PassengerId Survived Pclass  \\\n",
              "0           1        0      3   \n",
              "1           2        1      1   \n",
              "2           3        1      3   \n",
              "3           4        1      1   \n",
              "4           5        0      3   \n",
              "\n",
              "                                                Name     Sex Age SibSp Parch  \\\n",
              "0                            Braund, Mr. Owen Harris    male  22     1     0   \n",
              "1  Cumings, Mrs. John Bradley (Florence Briggs Th...  female  38     1     0   \n",
              "2                             Heikkinen, Miss. Laina  female  26     0     0   \n",
              "3       Futrelle, Mrs. Jacques Heath (Lily May Peel)  female  35     1     0   \n",
              "4                           Allen, Mr. William Henry    male  35     0     0   \n",
              "\n",
              "             Ticket     Fare Cabin Embarked  \n",
              "0         A/5 21171     7.25  None        S  \n",
              "1          PC 17599  71.2833   C85        C  \n",
              "2  STON/O2. 3101282    7.925  None        S  \n",
              "3            113803     53.1  C123        S  \n",
              "4            373450     8.05  None        S  "
            ],
            "text/html": [
              "\n",
              "  <div id=\"df-d6b525ec-70c7-46c6-971d-46e4be7ffc5f\" class=\"colab-df-container\">\n",
              "    <div>\n",
              "<style scoped>\n",
              "    .dataframe tbody tr th:only-of-type {\n",
              "        vertical-align: middle;\n",
              "    }\n",
              "\n",
              "    .dataframe tbody tr th {\n",
              "        vertical-align: top;\n",
              "    }\n",
              "\n",
              "    .dataframe thead th {\n",
              "        text-align: right;\n",
              "    }\n",
              "</style>\n",
              "<table border=\"1\" class=\"dataframe\">\n",
              "  <thead>\n",
              "    <tr style=\"text-align: right;\">\n",
              "      <th></th>\n",
              "      <th>PassengerId</th>\n",
              "      <th>Survived</th>\n",
              "      <th>Pclass</th>\n",
              "      <th>Name</th>\n",
              "      <th>Sex</th>\n",
              "      <th>Age</th>\n",
              "      <th>SibSp</th>\n",
              "      <th>Parch</th>\n",
              "      <th>Ticket</th>\n",
              "      <th>Fare</th>\n",
              "      <th>Cabin</th>\n",
              "      <th>Embarked</th>\n",
              "    </tr>\n",
              "  </thead>\n",
              "  <tbody>\n",
              "    <tr>\n",
              "      <th>0</th>\n",
              "      <td>1</td>\n",
              "      <td>0</td>\n",
              "      <td>3</td>\n",
              "      <td>Braund, Mr. Owen Harris</td>\n",
              "      <td>male</td>\n",
              "      <td>22</td>\n",
              "      <td>1</td>\n",
              "      <td>0</td>\n",
              "      <td>A/5 21171</td>\n",
              "      <td>7.25</td>\n",
              "      <td>None</td>\n",
              "      <td>S</td>\n",
              "    </tr>\n",
              "    <tr>\n",
              "      <th>1</th>\n",
              "      <td>2</td>\n",
              "      <td>1</td>\n",
              "      <td>1</td>\n",
              "      <td>Cumings, Mrs. John Bradley (Florence Briggs Th...</td>\n",
              "      <td>female</td>\n",
              "      <td>38</td>\n",
              "      <td>1</td>\n",
              "      <td>0</td>\n",
              "      <td>PC 17599</td>\n",
              "      <td>71.2833</td>\n",
              "      <td>C85</td>\n",
              "      <td>C</td>\n",
              "    </tr>\n",
              "    <tr>\n",
              "      <th>2</th>\n",
              "      <td>3</td>\n",
              "      <td>1</td>\n",
              "      <td>3</td>\n",
              "      <td>Heikkinen, Miss. Laina</td>\n",
              "      <td>female</td>\n",
              "      <td>26</td>\n",
              "      <td>0</td>\n",
              "      <td>0</td>\n",
              "      <td>STON/O2. 3101282</td>\n",
              "      <td>7.925</td>\n",
              "      <td>None</td>\n",
              "      <td>S</td>\n",
              "    </tr>\n",
              "    <tr>\n",
              "      <th>3</th>\n",
              "      <td>4</td>\n",
              "      <td>1</td>\n",
              "      <td>1</td>\n",
              "      <td>Futrelle, Mrs. Jacques Heath (Lily May Peel)</td>\n",
              "      <td>female</td>\n",
              "      <td>35</td>\n",
              "      <td>1</td>\n",
              "      <td>0</td>\n",
              "      <td>113803</td>\n",
              "      <td>53.1</td>\n",
              "      <td>C123</td>\n",
              "      <td>S</td>\n",
              "    </tr>\n",
              "    <tr>\n",
              "      <th>4</th>\n",
              "      <td>5</td>\n",
              "      <td>0</td>\n",
              "      <td>3</td>\n",
              "      <td>Allen, Mr. William Henry</td>\n",
              "      <td>male</td>\n",
              "      <td>35</td>\n",
              "      <td>0</td>\n",
              "      <td>0</td>\n",
              "      <td>373450</td>\n",
              "      <td>8.05</td>\n",
              "      <td>None</td>\n",
              "      <td>S</td>\n",
              "    </tr>\n",
              "  </tbody>\n",
              "</table>\n",
              "</div>\n",
              "    <div class=\"colab-df-buttons\">\n",
              "\n",
              "  <div class=\"colab-df-container\">\n",
              "    <button class=\"colab-df-convert\" onclick=\"convertToInteractive('df-d6b525ec-70c7-46c6-971d-46e4be7ffc5f')\"\n",
              "            title=\"Convert this dataframe to an interactive table.\"\n",
              "            style=\"display:none;\">\n",
              "\n",
              "  <svg xmlns=\"http://www.w3.org/2000/svg\" height=\"24px\" viewBox=\"0 -960 960 960\">\n",
              "    <path d=\"M120-120v-720h720v720H120Zm60-500h600v-160H180v160Zm220 220h160v-160H400v160Zm0 220h160v-160H400v160ZM180-400h160v-160H180v160Zm440 0h160v-160H620v160ZM180-180h160v-160H180v160Zm440 0h160v-160H620v160Z\"/>\n",
              "  </svg>\n",
              "    </button>\n",
              "\n",
              "  <style>\n",
              "    .colab-df-container {\n",
              "      display:flex;\n",
              "      gap: 12px;\n",
              "    }\n",
              "\n",
              "    .colab-df-convert {\n",
              "      background-color: #E8F0FE;\n",
              "      border: none;\n",
              "      border-radius: 50%;\n",
              "      cursor: pointer;\n",
              "      display: none;\n",
              "      fill: #1967D2;\n",
              "      height: 32px;\n",
              "      padding: 0 0 0 0;\n",
              "      width: 32px;\n",
              "    }\n",
              "\n",
              "    .colab-df-convert:hover {\n",
              "      background-color: #E2EBFA;\n",
              "      box-shadow: 0px 1px 2px rgba(60, 64, 67, 0.3), 0px 1px 3px 1px rgba(60, 64, 67, 0.15);\n",
              "      fill: #174EA6;\n",
              "    }\n",
              "\n",
              "    .colab-df-buttons div {\n",
              "      margin-bottom: 4px;\n",
              "    }\n",
              "\n",
              "    [theme=dark] .colab-df-convert {\n",
              "      background-color: #3B4455;\n",
              "      fill: #D2E3FC;\n",
              "    }\n",
              "\n",
              "    [theme=dark] .colab-df-convert:hover {\n",
              "      background-color: #434B5C;\n",
              "      box-shadow: 0px 1px 3px 1px rgba(0, 0, 0, 0.15);\n",
              "      filter: drop-shadow(0px 1px 2px rgba(0, 0, 0, 0.3));\n",
              "      fill: #FFFFFF;\n",
              "    }\n",
              "  </style>\n",
              "\n",
              "    <script>\n",
              "      const buttonEl =\n",
              "        document.querySelector('#df-d6b525ec-70c7-46c6-971d-46e4be7ffc5f button.colab-df-convert');\n",
              "      buttonEl.style.display =\n",
              "        google.colab.kernel.accessAllowed ? 'block' : 'none';\n",
              "\n",
              "      async function convertToInteractive(key) {\n",
              "        const element = document.querySelector('#df-d6b525ec-70c7-46c6-971d-46e4be7ffc5f');\n",
              "        const dataTable =\n",
              "          await google.colab.kernel.invokeFunction('convertToInteractive',\n",
              "                                                    [key], {});\n",
              "        if (!dataTable) return;\n",
              "\n",
              "        const docLinkHtml = 'Like what you see? Visit the ' +\n",
              "          '<a target=\"_blank\" href=https://colab.research.google.com/notebooks/data_table.ipynb>data table notebook</a>'\n",
              "          + ' to learn more about interactive tables.';\n",
              "        element.innerHTML = '';\n",
              "        dataTable['output_type'] = 'display_data';\n",
              "        await google.colab.output.renderOutput(dataTable, element);\n",
              "        const docLink = document.createElement('div');\n",
              "        docLink.innerHTML = docLinkHtml;\n",
              "        element.appendChild(docLink);\n",
              "      }\n",
              "    </script>\n",
              "  </div>\n",
              "\n",
              "\n",
              "<div id=\"df-319e2a1c-a996-46ad-95b9-43362292cf6a\">\n",
              "  <button class=\"colab-df-quickchart\" onclick=\"quickchart('df-319e2a1c-a996-46ad-95b9-43362292cf6a')\"\n",
              "            title=\"Suggest charts\"\n",
              "            style=\"display:none;\">\n",
              "\n",
              "<svg xmlns=\"http://www.w3.org/2000/svg\" height=\"24px\"viewBox=\"0 0 24 24\"\n",
              "     width=\"24px\">\n",
              "    <g>\n",
              "        <path d=\"M19 3H5c-1.1 0-2 .9-2 2v14c0 1.1.9 2 2 2h14c1.1 0 2-.9 2-2V5c0-1.1-.9-2-2-2zM9 17H7v-7h2v7zm4 0h-2V7h2v10zm4 0h-2v-4h2v4z\"/>\n",
              "    </g>\n",
              "</svg>\n",
              "  </button>\n",
              "\n",
              "<style>\n",
              "  .colab-df-quickchart {\n",
              "      --bg-color: #E8F0FE;\n",
              "      --fill-color: #1967D2;\n",
              "      --hover-bg-color: #E2EBFA;\n",
              "      --hover-fill-color: #174EA6;\n",
              "      --disabled-fill-color: #AAA;\n",
              "      --disabled-bg-color: #DDD;\n",
              "  }\n",
              "\n",
              "  [theme=dark] .colab-df-quickchart {\n",
              "      --bg-color: #3B4455;\n",
              "      --fill-color: #D2E3FC;\n",
              "      --hover-bg-color: #434B5C;\n",
              "      --hover-fill-color: #FFFFFF;\n",
              "      --disabled-bg-color: #3B4455;\n",
              "      --disabled-fill-color: #666;\n",
              "  }\n",
              "\n",
              "  .colab-df-quickchart {\n",
              "    background-color: var(--bg-color);\n",
              "    border: none;\n",
              "    border-radius: 50%;\n",
              "    cursor: pointer;\n",
              "    display: none;\n",
              "    fill: var(--fill-color);\n",
              "    height: 32px;\n",
              "    padding: 0;\n",
              "    width: 32px;\n",
              "  }\n",
              "\n",
              "  .colab-df-quickchart:hover {\n",
              "    background-color: var(--hover-bg-color);\n",
              "    box-shadow: 0 1px 2px rgba(60, 64, 67, 0.3), 0 1px 3px 1px rgba(60, 64, 67, 0.15);\n",
              "    fill: var(--button-hover-fill-color);\n",
              "  }\n",
              "\n",
              "  .colab-df-quickchart-complete:disabled,\n",
              "  .colab-df-quickchart-complete:disabled:hover {\n",
              "    background-color: var(--disabled-bg-color);\n",
              "    fill: var(--disabled-fill-color);\n",
              "    box-shadow: none;\n",
              "  }\n",
              "\n",
              "  .colab-df-spinner {\n",
              "    border: 2px solid var(--fill-color);\n",
              "    border-color: transparent;\n",
              "    border-bottom-color: var(--fill-color);\n",
              "    animation:\n",
              "      spin 1s steps(1) infinite;\n",
              "  }\n",
              "\n",
              "  @keyframes spin {\n",
              "    0% {\n",
              "      border-color: transparent;\n",
              "      border-bottom-color: var(--fill-color);\n",
              "      border-left-color: var(--fill-color);\n",
              "    }\n",
              "    20% {\n",
              "      border-color: transparent;\n",
              "      border-left-color: var(--fill-color);\n",
              "      border-top-color: var(--fill-color);\n",
              "    }\n",
              "    30% {\n",
              "      border-color: transparent;\n",
              "      border-left-color: var(--fill-color);\n",
              "      border-top-color: var(--fill-color);\n",
              "      border-right-color: var(--fill-color);\n",
              "    }\n",
              "    40% {\n",
              "      border-color: transparent;\n",
              "      border-right-color: var(--fill-color);\n",
              "      border-top-color: var(--fill-color);\n",
              "    }\n",
              "    60% {\n",
              "      border-color: transparent;\n",
              "      border-right-color: var(--fill-color);\n",
              "    }\n",
              "    80% {\n",
              "      border-color: transparent;\n",
              "      border-right-color: var(--fill-color);\n",
              "      border-bottom-color: var(--fill-color);\n",
              "    }\n",
              "    90% {\n",
              "      border-color: transparent;\n",
              "      border-bottom-color: var(--fill-color);\n",
              "    }\n",
              "  }\n",
              "</style>\n",
              "\n",
              "  <script>\n",
              "    async function quickchart(key) {\n",
              "      const quickchartButtonEl =\n",
              "        document.querySelector('#' + key + ' button');\n",
              "      quickchartButtonEl.disabled = true;  // To prevent multiple clicks.\n",
              "      quickchartButtonEl.classList.add('colab-df-spinner');\n",
              "      try {\n",
              "        const charts = await google.colab.kernel.invokeFunction(\n",
              "            'suggestCharts', [key], {});\n",
              "      } catch (error) {\n",
              "        console.error('Error during call to suggestCharts:', error);\n",
              "      }\n",
              "      quickchartButtonEl.classList.remove('colab-df-spinner');\n",
              "      quickchartButtonEl.classList.add('colab-df-quickchart-complete');\n",
              "    }\n",
              "    (() => {\n",
              "      let quickchartButtonEl =\n",
              "        document.querySelector('#df-319e2a1c-a996-46ad-95b9-43362292cf6a button');\n",
              "      quickchartButtonEl.style.display =\n",
              "        google.colab.kernel.accessAllowed ? 'block' : 'none';\n",
              "    })();\n",
              "  </script>\n",
              "</div>\n",
              "    </div>\n",
              "  </div>\n"
            ]
          },
          "metadata": {},
          "execution_count": 18
        }
      ]
    },
    {
      "cell_type": "markdown",
      "source": [
        "4.c) Convert the columns that should be float (show the first values to see when you do need a float)"
      ],
      "metadata": {
        "id": "nX5GMnON54l9"
      }
    },
    {
      "cell_type": "code",
      "source": [
        "from pyspark.sql.functions import col\n",
        "\n",
        "# Convert 'Age' and 'Fare' to float\n",
        "titanic_df = titanic_df.withColumn(\"Age\", col(\"Age\").cast('float'))\n",
        "titanic_df = titanic_df.withColumn(\"Fare\", col(\"Fare\").cast('float'))\n",
        "\n",
        "# Convert 'Survived', 'Pclass', 'SibSp', and 'Parch' to integer\n",
        "titanic_df = titanic_df.withColumn(\"Survived\", col(\"Survived\").cast('integer'))\n",
        "titanic_df = titanic_df.withColumn(\"Pclass\", col(\"Pclass\").cast('integer'))\n",
        "titanic_df = titanic_df.withColumn(\"SibSp\", col(\"SibSp\").cast('integer'))\n",
        "titanic_df = titanic_df.withColumn(\"Parch\", col(\"Parch\").cast('integer'))\n",
        "\n",
        "# Show the first few values to verify the changes\n",
        "titanic_df.show(5)"
      ],
      "metadata": {
        "colab": {
          "base_uri": "https://localhost:8080/"
        },
        "id": "elO-sIuO57gQ",
        "outputId": "1844f6b8-e315-4c96-c19b-e7bd66772d6b"
      },
      "execution_count": 19,
      "outputs": [
        {
          "output_type": "stream",
          "name": "stdout",
          "text": [
            "+-----------+--------+------+--------------------+------+----+-----+-----+----------------+-------+-----+--------+\n",
            "|PassengerId|Survived|Pclass|                Name|   Sex| Age|SibSp|Parch|          Ticket|   Fare|Cabin|Embarked|\n",
            "+-----------+--------+------+--------------------+------+----+-----+-----+----------------+-------+-----+--------+\n",
            "|          1|       0|     3|Braund, Mr. Owen ...|  male|22.0|    1|    0|       A/5 21171|   7.25| NULL|       S|\n",
            "|          2|       1|     1|Cumings, Mrs. Joh...|female|38.0|    1|    0|        PC 17599|71.2833|  C85|       C|\n",
            "|          3|       1|     3|Heikkinen, Miss. ...|female|26.0|    0|    0|STON/O2. 3101282|  7.925| NULL|       S|\n",
            "|          4|       1|     1|Futrelle, Mrs. Ja...|female|35.0|    1|    0|          113803|   53.1| C123|       S|\n",
            "|          5|       0|     3|Allen, Mr. Willia...|  male|35.0|    0|    0|          373450|   8.05| NULL|       S|\n",
            "+-----------+--------+------+--------------------+------+----+-----+-----+----------------+-------+-----+--------+\n",
            "only showing top 5 rows\n",
            "\n"
          ]
        }
      ]
    },
    {
      "cell_type": "markdown",
      "source": [
        "4.d) Use the describe() method to have a good view of the dataset"
      ],
      "metadata": {
        "id": "leSkZleY58Fk"
      }
    },
    {
      "cell_type": "code",
      "source": [
        "# Describe the dataset\n",
        "titanic_description = titanic_df.describe().toPandas()\n",
        "titanic_description\n"
      ],
      "metadata": {
        "colab": {
          "base_uri": "https://localhost:8080/",
          "height": 275
        },
        "id": "Qc7WDT_G6DPE",
        "outputId": "d4dae95b-a1a6-49e6-9605-fbc5eba3ca1f"
      },
      "execution_count": 20,
      "outputs": [
        {
          "output_type": "execute_result",
          "data": {
            "text/plain": [
              "  summary        PassengerId             Survived              Pclass  \\\n",
              "0   count                891                  891                 891   \n",
              "1    mean              446.0   0.3838383838383838   2.308641975308642   \n",
              "2  stddev  257.3538420152301  0.48659245426485753  0.8360712409770491   \n",
              "3     min                  1                    0                   1   \n",
              "4     max                 99                    1                   3   \n",
              "\n",
              "                                               Name     Sex  \\\n",
              "0                                               891     891   \n",
              "1                                              None    None   \n",
              "2                                              None    None   \n",
              "3  \"Andersson, Mr. August Edvard (\"\"Wennerstrom\"\")\"  female   \n",
              "4                       van Melkebeke, Mr. Philemon    male   \n",
              "\n",
              "                  Age               SibSp                Parch  \\\n",
              "0                 714                 891                  891   \n",
              "1   29.69911764704046  0.5230078563411896  0.38159371492704824   \n",
              "2  14.526497332370992  1.1027434322934315   0.8060572211299488   \n",
              "3                0.42                   0                    0   \n",
              "4                80.0                   8                    6   \n",
              "\n",
              "               Ticket               Fare Cabin Embarked  \n",
              "0                 891                891   204      889  \n",
              "1  260318.54916792738  32.20420804114722  None     None  \n",
              "2  471609.26868834975  49.69342916316158  None     None  \n",
              "3              110152                0.0   A10        C  \n",
              "4           WE/P 5735           512.3292     T        S  "
            ],
            "text/html": [
              "\n",
              "  <div id=\"df-ebc4b449-1a0a-4fa6-979a-cc5df0675ab5\" class=\"colab-df-container\">\n",
              "    <div>\n",
              "<style scoped>\n",
              "    .dataframe tbody tr th:only-of-type {\n",
              "        vertical-align: middle;\n",
              "    }\n",
              "\n",
              "    .dataframe tbody tr th {\n",
              "        vertical-align: top;\n",
              "    }\n",
              "\n",
              "    .dataframe thead th {\n",
              "        text-align: right;\n",
              "    }\n",
              "</style>\n",
              "<table border=\"1\" class=\"dataframe\">\n",
              "  <thead>\n",
              "    <tr style=\"text-align: right;\">\n",
              "      <th></th>\n",
              "      <th>summary</th>\n",
              "      <th>PassengerId</th>\n",
              "      <th>Survived</th>\n",
              "      <th>Pclass</th>\n",
              "      <th>Name</th>\n",
              "      <th>Sex</th>\n",
              "      <th>Age</th>\n",
              "      <th>SibSp</th>\n",
              "      <th>Parch</th>\n",
              "      <th>Ticket</th>\n",
              "      <th>Fare</th>\n",
              "      <th>Cabin</th>\n",
              "      <th>Embarked</th>\n",
              "    </tr>\n",
              "  </thead>\n",
              "  <tbody>\n",
              "    <tr>\n",
              "      <th>0</th>\n",
              "      <td>count</td>\n",
              "      <td>891</td>\n",
              "      <td>891</td>\n",
              "      <td>891</td>\n",
              "      <td>891</td>\n",
              "      <td>891</td>\n",
              "      <td>714</td>\n",
              "      <td>891</td>\n",
              "      <td>891</td>\n",
              "      <td>891</td>\n",
              "      <td>891</td>\n",
              "      <td>204</td>\n",
              "      <td>889</td>\n",
              "    </tr>\n",
              "    <tr>\n",
              "      <th>1</th>\n",
              "      <td>mean</td>\n",
              "      <td>446.0</td>\n",
              "      <td>0.3838383838383838</td>\n",
              "      <td>2.308641975308642</td>\n",
              "      <td>None</td>\n",
              "      <td>None</td>\n",
              "      <td>29.69911764704046</td>\n",
              "      <td>0.5230078563411896</td>\n",
              "      <td>0.38159371492704824</td>\n",
              "      <td>260318.54916792738</td>\n",
              "      <td>32.20420804114722</td>\n",
              "      <td>None</td>\n",
              "      <td>None</td>\n",
              "    </tr>\n",
              "    <tr>\n",
              "      <th>2</th>\n",
              "      <td>stddev</td>\n",
              "      <td>257.3538420152301</td>\n",
              "      <td>0.48659245426485753</td>\n",
              "      <td>0.8360712409770491</td>\n",
              "      <td>None</td>\n",
              "      <td>None</td>\n",
              "      <td>14.526497332370992</td>\n",
              "      <td>1.1027434322934315</td>\n",
              "      <td>0.8060572211299488</td>\n",
              "      <td>471609.26868834975</td>\n",
              "      <td>49.69342916316158</td>\n",
              "      <td>None</td>\n",
              "      <td>None</td>\n",
              "    </tr>\n",
              "    <tr>\n",
              "      <th>3</th>\n",
              "      <td>min</td>\n",
              "      <td>1</td>\n",
              "      <td>0</td>\n",
              "      <td>1</td>\n",
              "      <td>\"Andersson, Mr. August Edvard (\"\"Wennerstrom\"\")\"</td>\n",
              "      <td>female</td>\n",
              "      <td>0.42</td>\n",
              "      <td>0</td>\n",
              "      <td>0</td>\n",
              "      <td>110152</td>\n",
              "      <td>0.0</td>\n",
              "      <td>A10</td>\n",
              "      <td>C</td>\n",
              "    </tr>\n",
              "    <tr>\n",
              "      <th>4</th>\n",
              "      <td>max</td>\n",
              "      <td>99</td>\n",
              "      <td>1</td>\n",
              "      <td>3</td>\n",
              "      <td>van Melkebeke, Mr. Philemon</td>\n",
              "      <td>male</td>\n",
              "      <td>80.0</td>\n",
              "      <td>8</td>\n",
              "      <td>6</td>\n",
              "      <td>WE/P 5735</td>\n",
              "      <td>512.3292</td>\n",
              "      <td>T</td>\n",
              "      <td>S</td>\n",
              "    </tr>\n",
              "  </tbody>\n",
              "</table>\n",
              "</div>\n",
              "    <div class=\"colab-df-buttons\">\n",
              "\n",
              "  <div class=\"colab-df-container\">\n",
              "    <button class=\"colab-df-convert\" onclick=\"convertToInteractive('df-ebc4b449-1a0a-4fa6-979a-cc5df0675ab5')\"\n",
              "            title=\"Convert this dataframe to an interactive table.\"\n",
              "            style=\"display:none;\">\n",
              "\n",
              "  <svg xmlns=\"http://www.w3.org/2000/svg\" height=\"24px\" viewBox=\"0 -960 960 960\">\n",
              "    <path d=\"M120-120v-720h720v720H120Zm60-500h600v-160H180v160Zm220 220h160v-160H400v160Zm0 220h160v-160H400v160ZM180-400h160v-160H180v160Zm440 0h160v-160H620v160ZM180-180h160v-160H180v160Zm440 0h160v-160H620v160Z\"/>\n",
              "  </svg>\n",
              "    </button>\n",
              "\n",
              "  <style>\n",
              "    .colab-df-container {\n",
              "      display:flex;\n",
              "      gap: 12px;\n",
              "    }\n",
              "\n",
              "    .colab-df-convert {\n",
              "      background-color: #E8F0FE;\n",
              "      border: none;\n",
              "      border-radius: 50%;\n",
              "      cursor: pointer;\n",
              "      display: none;\n",
              "      fill: #1967D2;\n",
              "      height: 32px;\n",
              "      padding: 0 0 0 0;\n",
              "      width: 32px;\n",
              "    }\n",
              "\n",
              "    .colab-df-convert:hover {\n",
              "      background-color: #E2EBFA;\n",
              "      box-shadow: 0px 1px 2px rgba(60, 64, 67, 0.3), 0px 1px 3px 1px rgba(60, 64, 67, 0.15);\n",
              "      fill: #174EA6;\n",
              "    }\n",
              "\n",
              "    .colab-df-buttons div {\n",
              "      margin-bottom: 4px;\n",
              "    }\n",
              "\n",
              "    [theme=dark] .colab-df-convert {\n",
              "      background-color: #3B4455;\n",
              "      fill: #D2E3FC;\n",
              "    }\n",
              "\n",
              "    [theme=dark] .colab-df-convert:hover {\n",
              "      background-color: #434B5C;\n",
              "      box-shadow: 0px 1px 3px 1px rgba(0, 0, 0, 0.15);\n",
              "      filter: drop-shadow(0px 1px 2px rgba(0, 0, 0, 0.3));\n",
              "      fill: #FFFFFF;\n",
              "    }\n",
              "  </style>\n",
              "\n",
              "    <script>\n",
              "      const buttonEl =\n",
              "        document.querySelector('#df-ebc4b449-1a0a-4fa6-979a-cc5df0675ab5 button.colab-df-convert');\n",
              "      buttonEl.style.display =\n",
              "        google.colab.kernel.accessAllowed ? 'block' : 'none';\n",
              "\n",
              "      async function convertToInteractive(key) {\n",
              "        const element = document.querySelector('#df-ebc4b449-1a0a-4fa6-979a-cc5df0675ab5');\n",
              "        const dataTable =\n",
              "          await google.colab.kernel.invokeFunction('convertToInteractive',\n",
              "                                                    [key], {});\n",
              "        if (!dataTable) return;\n",
              "\n",
              "        const docLinkHtml = 'Like what you see? Visit the ' +\n",
              "          '<a target=\"_blank\" href=https://colab.research.google.com/notebooks/data_table.ipynb>data table notebook</a>'\n",
              "          + ' to learn more about interactive tables.';\n",
              "        element.innerHTML = '';\n",
              "        dataTable['output_type'] = 'display_data';\n",
              "        await google.colab.output.renderOutput(dataTable, element);\n",
              "        const docLink = document.createElement('div');\n",
              "        docLink.innerHTML = docLinkHtml;\n",
              "        element.appendChild(docLink);\n",
              "      }\n",
              "    </script>\n",
              "  </div>\n",
              "\n",
              "\n",
              "<div id=\"df-4c6f298c-62f4-4f25-84eb-a3fb40eeea70\">\n",
              "  <button class=\"colab-df-quickchart\" onclick=\"quickchart('df-4c6f298c-62f4-4f25-84eb-a3fb40eeea70')\"\n",
              "            title=\"Suggest charts\"\n",
              "            style=\"display:none;\">\n",
              "\n",
              "<svg xmlns=\"http://www.w3.org/2000/svg\" height=\"24px\"viewBox=\"0 0 24 24\"\n",
              "     width=\"24px\">\n",
              "    <g>\n",
              "        <path d=\"M19 3H5c-1.1 0-2 .9-2 2v14c0 1.1.9 2 2 2h14c1.1 0 2-.9 2-2V5c0-1.1-.9-2-2-2zM9 17H7v-7h2v7zm4 0h-2V7h2v10zm4 0h-2v-4h2v4z\"/>\n",
              "    </g>\n",
              "</svg>\n",
              "  </button>\n",
              "\n",
              "<style>\n",
              "  .colab-df-quickchart {\n",
              "      --bg-color: #E8F0FE;\n",
              "      --fill-color: #1967D2;\n",
              "      --hover-bg-color: #E2EBFA;\n",
              "      --hover-fill-color: #174EA6;\n",
              "      --disabled-fill-color: #AAA;\n",
              "      --disabled-bg-color: #DDD;\n",
              "  }\n",
              "\n",
              "  [theme=dark] .colab-df-quickchart {\n",
              "      --bg-color: #3B4455;\n",
              "      --fill-color: #D2E3FC;\n",
              "      --hover-bg-color: #434B5C;\n",
              "      --hover-fill-color: #FFFFFF;\n",
              "      --disabled-bg-color: #3B4455;\n",
              "      --disabled-fill-color: #666;\n",
              "  }\n",
              "\n",
              "  .colab-df-quickchart {\n",
              "    background-color: var(--bg-color);\n",
              "    border: none;\n",
              "    border-radius: 50%;\n",
              "    cursor: pointer;\n",
              "    display: none;\n",
              "    fill: var(--fill-color);\n",
              "    height: 32px;\n",
              "    padding: 0;\n",
              "    width: 32px;\n",
              "  }\n",
              "\n",
              "  .colab-df-quickchart:hover {\n",
              "    background-color: var(--hover-bg-color);\n",
              "    box-shadow: 0 1px 2px rgba(60, 64, 67, 0.3), 0 1px 3px 1px rgba(60, 64, 67, 0.15);\n",
              "    fill: var(--button-hover-fill-color);\n",
              "  }\n",
              "\n",
              "  .colab-df-quickchart-complete:disabled,\n",
              "  .colab-df-quickchart-complete:disabled:hover {\n",
              "    background-color: var(--disabled-bg-color);\n",
              "    fill: var(--disabled-fill-color);\n",
              "    box-shadow: none;\n",
              "  }\n",
              "\n",
              "  .colab-df-spinner {\n",
              "    border: 2px solid var(--fill-color);\n",
              "    border-color: transparent;\n",
              "    border-bottom-color: var(--fill-color);\n",
              "    animation:\n",
              "      spin 1s steps(1) infinite;\n",
              "  }\n",
              "\n",
              "  @keyframes spin {\n",
              "    0% {\n",
              "      border-color: transparent;\n",
              "      border-bottom-color: var(--fill-color);\n",
              "      border-left-color: var(--fill-color);\n",
              "    }\n",
              "    20% {\n",
              "      border-color: transparent;\n",
              "      border-left-color: var(--fill-color);\n",
              "      border-top-color: var(--fill-color);\n",
              "    }\n",
              "    30% {\n",
              "      border-color: transparent;\n",
              "      border-left-color: var(--fill-color);\n",
              "      border-top-color: var(--fill-color);\n",
              "      border-right-color: var(--fill-color);\n",
              "    }\n",
              "    40% {\n",
              "      border-color: transparent;\n",
              "      border-right-color: var(--fill-color);\n",
              "      border-top-color: var(--fill-color);\n",
              "    }\n",
              "    60% {\n",
              "      border-color: transparent;\n",
              "      border-right-color: var(--fill-color);\n",
              "    }\n",
              "    80% {\n",
              "      border-color: transparent;\n",
              "      border-right-color: var(--fill-color);\n",
              "      border-bottom-color: var(--fill-color);\n",
              "    }\n",
              "    90% {\n",
              "      border-color: transparent;\n",
              "      border-bottom-color: var(--fill-color);\n",
              "    }\n",
              "  }\n",
              "</style>\n",
              "\n",
              "  <script>\n",
              "    async function quickchart(key) {\n",
              "      const quickchartButtonEl =\n",
              "        document.querySelector('#' + key + ' button');\n",
              "      quickchartButtonEl.disabled = true;  // To prevent multiple clicks.\n",
              "      quickchartButtonEl.classList.add('colab-df-spinner');\n",
              "      try {\n",
              "        const charts = await google.colab.kernel.invokeFunction(\n",
              "            'suggestCharts', [key], {});\n",
              "      } catch (error) {\n",
              "        console.error('Error during call to suggestCharts:', error);\n",
              "      }\n",
              "      quickchartButtonEl.classList.remove('colab-df-spinner');\n",
              "      quickchartButtonEl.classList.add('colab-df-quickchart-complete');\n",
              "    }\n",
              "    (() => {\n",
              "      let quickchartButtonEl =\n",
              "        document.querySelector('#df-4c6f298c-62f4-4f25-84eb-a3fb40eeea70 button');\n",
              "      quickchartButtonEl.style.display =\n",
              "        google.colab.kernel.accessAllowed ? 'block' : 'none';\n",
              "    })();\n",
              "  </script>\n",
              "</div>\n",
              "    </div>\n",
              "  </div>\n"
            ]
          },
          "metadata": {},
          "execution_count": 20
        }
      ]
    },
    {
      "cell_type": "markdown",
      "source": [
        "Question 5\n",
        "a) The call count(isnull(c), c)) will act as an if to catch None values. We will call this method for each column. We now only need to count the values.\n",
        "b) You should only having 2 Embarked and 177 Age missing\n",
        "c) Use show and some queries to understand which character is used to represent missing values. Replace it with None\n",
        "d) The dropna(how=’any) call will remove every nulls values\n",
        "Almost done! We need to make sure that we work with numerical data:\n",
        "• StringIndexer(inputCol=,outputCol=,handleInvalid=’keep’).fit(dataset).transform(dataset)willreturnadataset where the specified column has been added with a number. Use this approch to only have numerical values\n",
        "• You can now drop the columns with no numerical attributes"
      ],
      "metadata": {
        "id": "TB68fv_H6YVn"
      }
    },
    {
      "cell_type": "code",
      "source": [
        "from pyspark.sql import SparkSession\n",
        "from pyspark.sql.functions import col\n",
        "\n",
        "# Assuming 'dataset' is your PySpark DataFrame\n",
        "for column in titanic_df.columns:\n",
        "    null_count = titanic_df.filter(col(column).isNull()).count()\n",
        "    print(f\"Number of null values in column '{column}': {null_count}\")\n"
      ],
      "metadata": {
        "colab": {
          "base_uri": "https://localhost:8080/"
        },
        "id": "PsWboYPV679P",
        "outputId": "7b226526-23e6-4a8d-f541-8cc896af30a5"
      },
      "execution_count": 21,
      "outputs": [
        {
          "output_type": "stream",
          "name": "stdout",
          "text": [
            "Number of null values in column 'PassengerId': 0\n",
            "Number of null values in column 'Survived': 0\n",
            "Number of null values in column 'Pclass': 0\n",
            "Number of null values in column 'Name': 0\n",
            "Number of null values in column 'Sex': 0\n",
            "Number of null values in column 'Age': 177\n",
            "Number of null values in column 'SibSp': 0\n",
            "Number of null values in column 'Parch': 0\n",
            "Number of null values in column 'Ticket': 0\n",
            "Number of null values in column 'Fare': 0\n",
            "Number of null values in column 'Cabin': 687\n",
            "Number of null values in column 'Embarked': 2\n"
          ]
        }
      ]
    },
    {
      "cell_type": "code",
      "source": [
        "embarked_missing_count = titanic_df.filter(col('Embarked').isNull()).count()\n",
        "age_missing_count = titanic_df.filter(col('Age').isNull()).count()\n",
        "\n",
        "print(f\"Number of missing values in 'Embarked': {embarked_missing_count}\")\n",
        "print(f\"Number of missing values in 'Age': {age_missing_count}\")\n"
      ],
      "metadata": {
        "colab": {
          "base_uri": "https://localhost:8080/"
        },
        "id": "yuDuIZcx7q9H",
        "outputId": "9b2f3925-29df-413a-b5fb-07634e00ded1"
      },
      "execution_count": 22,
      "outputs": [
        {
          "output_type": "stream",
          "name": "stdout",
          "text": [
            "Number of missing values in 'Embarked': 2\n",
            "Number of missing values in 'Age': 177\n"
          ]
        }
      ]
    },
    {
      "cell_type": "code",
      "source": [
        "from pyspark.sql.functions import col, when\n",
        "# Identifying missing values in 'age' column and storing the missing values character\n",
        "missing_values_char = titanic_df.select(\"age\").distinct().filter(col(\"age\").isNull()).head()[0]\n",
        "missing_values_char = str(missing_values_char)\n",
        "\n",
        "# Replacing missing values in 'age' column with 'None'\n",
        "titanic_df = titanic_df.withColumn(\"age\", when(col(\"age\") == missing_values_char, None).otherwise(col(\"age\")))\n",
        "\n",
        "# Dropping rows with any null values from the DataFrame\n",
        "titanic_df_no_nulls = titanic_df.dropna(how='any')\n",
        "titanic_df = titanic_df.dropna(subset=[\"Age\", \"Embarked\"])\n",
        "# Displaying the modified DataFrame\n",
        "titanic_df_no_nulls.show()"
      ],
      "metadata": {
        "colab": {
          "base_uri": "https://localhost:8080/"
        },
        "id": "u4BQ98tQ6Uf7",
        "outputId": "dd8c5fed-cc36-4012-f251-38d06aa8f748"
      },
      "execution_count": 23,
      "outputs": [
        {
          "output_type": "stream",
          "name": "stdout",
          "text": [
            "+-----------+--------+------+--------------------+------+----+-----+-----+-----------+--------+-----------+--------+\n",
            "|PassengerId|Survived|Pclass|                Name|   Sex| age|SibSp|Parch|     Ticket|    Fare|      Cabin|Embarked|\n",
            "+-----------+--------+------+--------------------+------+----+-----+-----+-----------+--------+-----------+--------+\n",
            "|          2|       1|     1|Cumings, Mrs. Joh...|female|38.0|    1|    0|   PC 17599| 71.2833|        C85|       C|\n",
            "|          4|       1|     1|Futrelle, Mrs. Ja...|female|35.0|    1|    0|     113803|    53.1|       C123|       S|\n",
            "|          7|       0|     1|McCarthy, Mr. Tim...|  male|54.0|    0|    0|      17463| 51.8625|        E46|       S|\n",
            "|         11|       1|     3|Sandstrom, Miss. ...|female| 4.0|    1|    1|    PP 9549|    16.7|         G6|       S|\n",
            "|         12|       1|     1|Bonnell, Miss. El...|female|58.0|    0|    0|     113783|   26.55|       C103|       S|\n",
            "|         22|       1|     2|Beesley, Mr. Lawr...|  male|34.0|    0|    0|     248698|    13.0|        D56|       S|\n",
            "|         24|       1|     1|Sloper, Mr. Willi...|  male|28.0|    0|    0|     113788|    35.5|         A6|       S|\n",
            "|         28|       0|     1|Fortune, Mr. Char...|  male|19.0|    3|    2|      19950|   263.0|C23 C25 C27|       S|\n",
            "|         53|       1|     1|Harper, Mrs. Henr...|female|49.0|    1|    0|   PC 17572| 76.7292|        D33|       C|\n",
            "|         55|       0|     1|Ostby, Mr. Engelh...|  male|65.0|    0|    1|     113509| 61.9792|        B30|       C|\n",
            "|         63|       0|     1|Harris, Mr. Henry...|  male|45.0|    1|    0|      36973|  83.475|        C83|       S|\n",
            "|         67|       1|     2|Nye, Mrs. (Elizab...|female|29.0|    0|    0| C.A. 29395|    10.5|        F33|       S|\n",
            "|         76|       0|     3|Moen, Mr. Sigurd ...|  male|25.0|    0|    0|     348123|    7.65|      F G73|       S|\n",
            "|         89|       1|     1|Fortune, Miss. Ma...|female|23.0|    3|    2|      19950|   263.0|C23 C25 C27|       S|\n",
            "|         93|       0|     1|Chaffee, Mr. Herb...|  male|46.0|    1|    0|W.E.P. 5734|  61.175|        E31|       S|\n",
            "|         97|       0|     1|Goldschmidt, Mr. ...|  male|71.0|    0|    0|   PC 17754| 34.6542|         A5|       C|\n",
            "|         98|       1|     1|Greenfield, Mr. W...|  male|23.0|    0|    1|   PC 17759| 63.3583|    D10 D12|       C|\n",
            "|        103|       0|     1|White, Mr. Richar...|  male|21.0|    0|    1|      35281| 77.2875|        D26|       S|\n",
            "|        111|       0|     1|Porter, Mr. Walte...|  male|47.0|    0|    0|     110465|    52.0|       C110|       S|\n",
            "|        119|       0|     1|Baxter, Mr. Quigg...|  male|24.0|    0|    1|   PC 17558|247.5208|    B58 B60|       C|\n",
            "+-----------+--------+------+--------------------+------+----+-----+-----+-----------+--------+-----------+--------+\n",
            "only showing top 20 rows\n",
            "\n"
          ]
        }
      ]
    },
    {
      "cell_type": "code",
      "source": [
        "from pyspark.ml.feature import StringIndexer\n",
        "\n",
        "# Convert 'Sex' column to numerical\n",
        "indexer_sex = StringIndexer(inputCol=\"Sex\", outputCol=\"SexIndexed\", handleInvalid='keep')\n",
        "titanic_df = indexer_sex.fit(titanic_df).transform(titanic_df)\n",
        "\n",
        "# Convert 'Embarked' column to numerical\n",
        "indexer_embarked = StringIndexer(inputCol=\"Embarked\", outputCol=\"EmbarkedIndexed\", handleInvalid='keep')\n",
        "titanic_df = indexer_embarked.fit(titanic_df).transform(titanic_df)\n"
      ],
      "metadata": {
        "id": "sRZ3e2WW9pvp"
      },
      "execution_count": 24,
      "outputs": []
    },
    {
      "cell_type": "code",
      "source": [
        "from pyspark.ml.feature import StringIndexer\n",
        "# StringIndexer to convert string columns to numerical data\n",
        "string_indexer = StringIndexer(inputCol=\"age\", outputCol=\"age_numeric_new\", handleInvalid=\"keep\")\n",
        "titanic_df = string_indexer.fit(titanic_df).transform(titanic_df)\n",
        "\n",
        "# Drop columns with no numerical attributes\n",
        "numeric_columns = [col for col, dtype in titanic_df.dtypes if dtype != \"string\"]\n",
        "titanic_df = titanic_df[numeric_columns]\n",
        "# Display the modified DataFrame with numerical data only\n",
        "titanic_df.show()"
      ],
      "metadata": {
        "colab": {
          "base_uri": "https://localhost:8080/"
        },
        "id": "lK9H2ffg7HRa",
        "outputId": "0eb1bb90-4317-4944-c93a-f860f9508a6b"
      },
      "execution_count": 25,
      "outputs": [
        {
          "output_type": "stream",
          "name": "stdout",
          "text": [
            "+--------+------+----+-----+-----+-------+----------+---------------+---------------+\n",
            "|Survived|Pclass| age|SibSp|Parch|   Fare|SexIndexed|EmbarkedIndexed|age_numeric_new|\n",
            "+--------+------+----+-----+-----+-------+----------+---------------+---------------+\n",
            "|       0|     3|22.0|    1|    0|   7.25|       0.0|            0.0|            1.0|\n",
            "|       1|     1|38.0|    1|    0|71.2833|       1.0|            1.0|           26.0|\n",
            "|       1|     3|26.0|    0|    0|  7.925|       1.0|            0.0|           10.0|\n",
            "|       1|     1|35.0|    1|    0|   53.1|       1.0|            0.0|           13.0|\n",
            "|       0|     3|35.0|    0|    0|   8.05|       0.0|            0.0|           13.0|\n",
            "|       0|     1|54.0|    0|    0|51.8625|       0.0|            0.0|           32.0|\n",
            "|       0|     3| 2.0|    3|    1| 21.075|       0.0|            0.0|           25.0|\n",
            "|       1|     3|27.0|    0|    2|11.1333|       1.0|            0.0|           11.0|\n",
            "|       1|     2|14.0|    1|    0|30.0708|       1.0|            1.0|           36.0|\n",
            "|       1|     3| 4.0|    1|    1|   16.7|       1.0|            0.0|           27.0|\n",
            "|       1|     1|58.0|    0|    0|  26.55|       1.0|            0.0|           44.0|\n",
            "|       0|     3|20.0|    0|    0|   8.05|       0.0|            0.0|           16.0|\n",
            "|       0|     3|39.0|    1|    5| 31.275|       0.0|            0.0|           20.0|\n",
            "|       0|     3|14.0|    0|    0| 7.8542|       1.0|            0.0|           36.0|\n",
            "|       1|     2|55.0|    0|    0|   16.0|       1.0|            0.0|           65.0|\n",
            "|       0|     3| 2.0|    4|    1| 29.125|       0.0|            2.0|           25.0|\n",
            "|       0|     3|31.0|    1|    0|   18.0|       1.0|            0.0|           15.0|\n",
            "|       0|     2|35.0|    0|    0|   26.0|       0.0|            0.0|           13.0|\n",
            "|       1|     2|34.0|    0|    0|   13.0|       0.0|            0.0|           19.0|\n",
            "|       1|     3|15.0|    0|    0| 8.0292|       1.0|            2.0|           42.0|\n",
            "+--------+------+----+-----+-----+-------+----------+---------------+---------------+\n",
            "only showing top 20 rows\n",
            "\n"
          ]
        }
      ]
    },
    {
      "cell_type": "markdown",
      "source": [
        "6\n",
        "a) Create a list with the name of the 5 column that you will use for the model.\n",
        "b) Import the VectorAssembler class from the pyspark.ml.feature lib\n",
        "c) assembler=VectorAssembler(inputCols=required_features,outputCol=’features’)andthentransformthedataset and put them in transformed_data\n",
        "d) We can now train a model: assembler = VectorAssembler(inputCols=required_features, outputCol=’features’)\n",
        "e) As always, we need to split the dataset between training_data and test_data\n",
        "f) Let’s import the RandomForstClassifierfrom pyspark.ml.classification import RandomForestClassifier\n",
        "g) create a RandomForest with the following argument: labelCol=’Survived’, featuresCol=’features’, maxDepth=5 As you can see, we can only provide one column to the classifier\n",
        "h) Actually train the model: call the fit method from the randomForest on training_data\n",
        "i) The model onject has a method to turn a RDD (test_data) into a prediction with the transform method\n",
        "j) Last step, we need an evaluator. imort the lib: from pyspark.ml.evaluation import MulticlassClassificationEval- uator\n",
        "k) Create a MultiClassClassificationEvaluatore with labelCol=’Survived’, predictionCol=’prediction’, metricName=’accuracy\n",
        "l) Finally, you can call the evaluate method and print the result! Try different values and split to see which one give you the better values!\n",
        "m) Use the same approach to compute the correlation matrix of the last movies tables we obtained (method corr de Correlation, se trouvant dans le package pyspark.ml.stat."
      ],
      "metadata": {
        "id": "prP7HCKI8pYh"
      }
    },
    {
      "cell_type": "code",
      "source": [
        "required_features = [\"Pclass\", \"age\", \"Fare\", \"Survived\", \"EmbarkedIndexed\"]\n"
      ],
      "metadata": {
        "id": "8WkolMKd9bQY"
      },
      "execution_count": 29,
      "outputs": []
    },
    {
      "cell_type": "code",
      "source": [
        "from pyspark.ml.feature import VectorAssembler\n"
      ],
      "metadata": {
        "id": "g1rTOrEn_av0"
      },
      "execution_count": 30,
      "outputs": []
    },
    {
      "cell_type": "code",
      "source": [
        "assembler = VectorAssembler(inputCols=required_features, outputCol='features')\n",
        "transformed_data = assembler.transform(titanic_df)"
      ],
      "metadata": {
        "id": "lDPrTed4_eJw"
      },
      "execution_count": 31,
      "outputs": []
    },
    {
      "cell_type": "code",
      "source": [
        "training_data, test_data = transformed_data.randomSplit([0.9, 0.09], seed=42)"
      ],
      "metadata": {
        "id": "y-tEUvKW_oUe"
      },
      "execution_count": 32,
      "outputs": []
    },
    {
      "cell_type": "code",
      "source": [
        "from pyspark.ml.classification import RandomForestClassifier\n",
        "random_forest = RandomForestClassifier(labelCol='Survived', featuresCol='features', maxDepth=5)\n",
        "rf_model = random_forest.fit(training_data)\n",
        "predictions = rf_model.transform(test_data)\n",
        "from pyspark.ml.evaluation import MulticlassClassificationEvaluator\n",
        "evaluator = MulticlassClassificationEvaluator(labelCol='Survived', predictionCol='prediction', metricName='accuracy')\n",
        "accuracy = evaluator.evaluate(predictions)\n",
        "print(\"Accuracy:\", accuracy)"
      ],
      "metadata": {
        "colab": {
          "base_uri": "https://localhost:8080/"
        },
        "id": "tDjn4YRN_q6I",
        "outputId": "51e5b831-3cfb-475a-9fa2-d729d6373e3f"
      },
      "execution_count": 33,
      "outputs": [
        {
          "output_type": "stream",
          "name": "stdout",
          "text": [
            "Accuracy: 1.0\n"
          ]
        }
      ]
    },
    {
      "cell_type": "code",
      "source": [
        "from pyspark.sql.functions import col\n",
        "from pyspark.ml.feature import VectorAssembler\n",
        "from pyspark.ml.stat import Correlation\n",
        "\n",
        "\n",
        "\n",
        "# Converting 'rating' to float if it's numeric\n",
        "joined_df = joined_df.withColumn(\"rating\", col(\"rating\").cast('float'))\n",
        "\n",
        "# Select only the columns that are relevant and already in a numeric format\n",
        "selected_columns = ['budget', 'revenue', 'rating']\n",
        "\n",
        "# Remove rows with null values in the selected columns\n",
        "cleaned_joined_df = joined_df.dropna(subset=selected_columns)\n",
        "\n",
        "# Assemble the features into a vector\n",
        "assembler = VectorAssembler(inputCols=selected_columns, outputCol=\"features\")\n",
        "joined_df_vector = assembler.transform(cleaned_joined_df)\n",
        "\n",
        "# Compute the correlation matrix\n",
        "correlation_matrix = Correlation.corr(joined_df_vector, \"features\").head()\n",
        "\n",
        "# Print the correlation matrix\n",
        "print(\"Correlation Matrix:\")\n",
        "print(correlation_matrix[0])\n"
      ],
      "metadata": {
        "colab": {
          "base_uri": "https://localhost:8080/"
        },
        "id": "1JEpfyAx_wjo",
        "outputId": "43aa6105-4eaa-46e9-d11b-32c39d55eebe"
      },
      "execution_count": 34,
      "outputs": [
        {
          "output_type": "stream",
          "name": "stdout",
          "text": [
            "Correlation Matrix:\n",
            "DenseMatrix([[ 1.        ,  0.71188117, -0.00246142],\n",
            "             [ 0.71188117,  1.        , -0.00184857],\n",
            "             [-0.00246142, -0.00184857,  1.        ]])\n"
          ]
        }
      ]
    }
  ]
}